{
 "cells": [
  {
   "cell_type": "markdown",
   "id": "f42f2caf",
   "metadata": {},
   "source": [
    "### Banking Questions"
   ]
  },
  {
   "cell_type": "code",
   "execution_count": 1,
   "id": "312b8141",
   "metadata": {},
   "outputs": [
    {
     "name": "stdout",
     "output_type": "stream",
     "text": [
      "\n",
      "ORIGINAL BANKING DATA:\n",
      "[[  101  5000   720    45     3]\n",
      " [  102 12000   680    52     5]\n",
      " [  103  2500   610    12     1]\n",
      " [  104  7800   790    67     4]\n",
      " [  105  3000   550     8     2]\n",
      " [  106 16000   845    89     6]\n",
      " [  107  4000   700    35     2]\n",
      " [  108   980   600    22     1]\n",
      " [  109 22000   890   103     8]\n",
      " [  110   500   430     5     3]]\n",
      "\n",
      "Data shape: (10, 5)\n",
      "Data type: int64\n"
     ]
    }
   ],
   "source": [
    "import numpy as np\n",
    "import pandas as pd\n",
    "# Banking data: Customer_ID, Account_Balance, Credit_Score, Transaction_Count, Years_Active\n",
    "banking_data = np.array([\n",
    "    [101, 5000, 720, 45, 3],\n",
    "    [102, 12000, 680, 52, 5],\n",
    "    [103, 2500, 610, 12, 1],\n",
    "    [104, 7800, 790, 67, 4],\n",
    "    [105, 3000, 550, 8, 2],\n",
    "    [106, 16000, 845, 89, 6],\n",
    "    [107, 4000, 700, 35, 2],\n",
    "    [108, 980, 600, 22, 1],\n",
    "    [109, 22000, 890, 103, 8],\n",
    "    [110, 500, 430, 5, 3]\n",
    "])\n",
    "\n",
    "print(\"\\nORIGINAL BANKING DATA:\")\n",
    "print(banking_data)\n",
    "print(f\"\\nData shape: {banking_data.shape}\")\n",
    "print(f\"Data type: {banking_data.dtype}\")\n"
   ]
  },
  {
   "cell_type": "code",
   "execution_count": null,
   "id": "16f1a9c0",
   "metadata": {},
   "outputs": [],
   "source": [
    "### Question 1: Array Creation and Manipulation\n",
    "\n",
    "\n",
    "**Q1.1:** Create a 4x4 identity matrix using `np.eye()`\n"
   ]
  },
  {
   "cell_type": "code",
   "execution_count": 12,
   "id": "012e6de6",
   "metadata": {},
   "outputs": [
    {
     "name": "stdout",
     "output_type": "stream",
     "text": [
      "[[1. 0. 0. 0.]\n",
      " [0. 1. 0. 0.]\n",
      " [0. 0. 1. 0.]\n",
      " [0. 0. 0. 1.]]\n"
     ]
    }
   ],
   "source": [
    "IM = np.eye(4)\n",
    "print(IM)"
   ]
  },
  {
   "cell_type": "code",
   "execution_count": null,
   "id": "28161e0d",
   "metadata": {},
   "outputs": [],
   "source": [
    "**Q1.2:** Create an array of 8 zeros using `np.zeros()`\n"
   ]
  },
  {
   "cell_type": "code",
   "execution_count": 13,
   "id": "7cdc6f28",
   "metadata": {},
   "outputs": [
    {
     "name": "stdout",
     "output_type": "stream",
     "text": [
      "[0. 0. 0. 0. 0. 0. 0. 0.]\n"
     ]
    }
   ],
   "source": [
    "zeros = np.zeros(8)\n",
    "print(zeros)"
   ]
  },
  {
   "cell_type": "code",
   "execution_count": null,
   "id": "f9cbda82",
   "metadata": {},
   "outputs": [],
   "source": [
    "**Q1.3:** Create an array of 6 ones using `np.ones()`\n"
   ]
  },
  {
   "cell_type": "code",
   "execution_count": 14,
   "id": "136e8105",
   "metadata": {},
   "outputs": [
    {
     "data": {
      "text/plain": [
       "array([1., 1., 1., 1., 1., 1.])"
      ]
     },
     "execution_count": 14,
     "metadata": {},
     "output_type": "execute_result"
    }
   ],
   "source": [
    "array = np.ones(6)\n",
    "array"
   ]
  },
  {
   "cell_type": "code",
   "execution_count": null,
   "id": "b2e14329",
   "metadata": {},
   "outputs": [],
   "source": [
    "**Q1.4:** Create an array with values from 0 to 15 using `np.arange()`\n"
   ]
  },
  {
   "cell_type": "code",
   "execution_count": 16,
   "id": "d644bda0",
   "metadata": {},
   "outputs": [
    {
     "data": {
      "text/plain": [
       "array([ 0,  1,  2,  3,  4,  5,  6,  7,  8,  9, 10, 11, 12, 13, 14, 15])"
      ]
     },
     "execution_count": 16,
     "metadata": {},
     "output_type": "execute_result"
    }
   ],
   "source": [
    "array = np.arange(0,16)\n",
    "array"
   ]
  },
  {
   "cell_type": "code",
   "execution_count": null,
   "id": "0f42daf8",
   "metadata": {},
   "outputs": [],
   "source": [
    "**Q1.5:** Create an array with 8 evenly spaced values from 0 to 100 using `np.linspace()`\n"
   ]
  },
  {
   "cell_type": "code",
   "execution_count": 17,
   "id": "7f9c56d0",
   "metadata": {},
   "outputs": [
    {
     "name": "stdout",
     "output_type": "stream",
     "text": [
      "[  0.    14.29  28.57  42.86  57.14  71.43  85.71 100.  ]\n"
     ]
    }
   ],
   "source": [
    "evenly_space = np.linspace(0,100,8)\n",
    "print(evenly_space)"
   ]
  },
  {
   "cell_type": "code",
   "execution_count": null,
   "id": "2a96b3fd",
   "metadata": {},
   "outputs": [],
   "source": [
    "### Question 2: Array Attributes and Information\n",
    "\n",
    "**Q2.1:** What is the shape of the `banking_data` array?\n"
   ]
  },
  {
   "cell_type": "code",
   "execution_count": 18,
   "id": "c8f9d3a0",
   "metadata": {},
   "outputs": [
    {
     "name": "stdout",
     "output_type": "stream",
     "text": [
      "shape:(10, 5)\n"
     ]
    }
   ],
   "source": [
    "print(f\"shape:{banking_data.shape}\")"
   ]
  },
  {
   "cell_type": "code",
   "execution_count": null,
   "id": "69da6de8",
   "metadata": {},
   "outputs": [],
   "source": [
    "**Q2.2:** What is the data type of the `banking_data` array?\n"
   ]
  },
  {
   "cell_type": "code",
   "execution_count": 19,
   "id": "f756f7a9",
   "metadata": {},
   "outputs": [
    {
     "name": "stdout",
     "output_type": "stream",
     "text": [
      "Data type: int64\n"
     ]
    }
   ],
   "source": [
    "print(f\"Data type: {banking_data.dtype}\")\n"
   ]
  },
  {
   "cell_type": "code",
   "execution_count": null,
   "id": "a8613337",
   "metadata": {},
   "outputs": [],
   "source": [
    "**Q2.3:** What is the size (total number of elements) of the `banking_data` array?\n"
   ]
  },
  {
   "cell_type": "code",
   "execution_count": 20,
   "id": "0658c6d3",
   "metadata": {},
   "outputs": [
    {
     "name": "stdout",
     "output_type": "stream",
     "text": [
      "Size: 50\n"
     ]
    }
   ],
   "source": [
    "print(f\"Size: {banking_data.size}\")\n"
   ]
  },
  {
   "cell_type": "code",
   "execution_count": null,
   "id": "b499ee3a",
   "metadata": {},
   "outputs": [],
   "source": [
    "**Q2.4:** What is the number of dimensions of the `banking_data` array?\n"
   ]
  },
  {
   "cell_type": "code",
   "execution_count": 21,
   "id": "69223d50",
   "metadata": {},
   "outputs": [
    {
     "name": "stdout",
     "output_type": "stream",
     "text": [
      "dimension:2\n"
     ]
    }
   ],
   "source": [
    "print(f\"dimension:{banking_data.ndim}\")"
   ]
  },
  {
   "cell_type": "code",
   "execution_count": null,
   "id": "dd983359",
   "metadata": {
    "vscode": {
     "languageId": "markdown"
    }
   },
   "outputs": [],
   "source": [
    "**Q2.5:** What is the memory size of the `banking_data` array in bytes?\n"
   ]
  },
  {
   "cell_type": "code",
   "execution_count": 4,
   "id": "720cc30d",
   "metadata": {},
   "outputs": [
    {
     "name": "stdout",
     "output_type": "stream",
     "text": [
      "size:400\n"
     ]
    }
   ],
   "source": [
    "print(f\"size:{banking_data.nbytes}\")"
   ]
  },
  {
   "cell_type": "code",
   "execution_count": null,
   "id": "da39d645",
   "metadata": {},
   "outputs": [],
   "source": [
    "### Question 3: Indexing and Slicing\n",
    "\n",
    "**Q3.1:** Extract the first row of `banking_data`\n"
   ]
  },
  {
   "cell_type": "code",
   "execution_count": 5,
   "id": "c46d2919",
   "metadata": {},
   "outputs": [
    {
     "name": "stdout",
     "output_type": "stream",
     "text": [
      "[ 101 5000  720   45    3]\n"
     ]
    }
   ],
   "source": [
    "first_row = banking_data[0]\n",
    "print(first_row)"
   ]
  },
  {
   "cell_type": "code",
   "execution_count": null,
   "id": "9e2acde3",
   "metadata": {},
   "outputs": [],
   "source": [
    "**Q3.2:** Extract the last row of `banking_data`\n"
   ]
  },
  {
   "cell_type": "code",
   "execution_count": 7,
   "id": "5f3b99cc",
   "metadata": {},
   "outputs": [
    {
     "name": "stdout",
     "output_type": "stream",
     "text": [
      "[110 500 430   5   3]\n"
     ]
    }
   ],
   "source": [
    "last_row = banking_data[-1]\n",
    "print(last_row)"
   ]
  },
  {
   "cell_type": "code",
   "execution_count": null,
   "id": "fc42bc27",
   "metadata": {},
   "outputs": [],
   "source": [
    "**Q3.3:** Extract the Account_Balance column (column index 1)\n"
   ]
  },
  {
   "cell_type": "code",
   "execution_count": 8,
   "id": "4f7f7a1d",
   "metadata": {},
   "outputs": [
    {
     "name": "stdout",
     "output_type": "stream",
     "text": [
      "[ 5000 12000  2500  7800  3000 16000  4000   980 22000   500]\n"
     ]
    }
   ],
   "source": [
    "Account_Balance = banking_data[:,1]\n",
    "print(Account_Balance)"
   ]
  },
  {
   "cell_type": "code",
   "execution_count": null,
   "id": "0ea6c21c",
   "metadata": {},
   "outputs": [],
   "source": [
    "**Q3.4:** Extract the first 4 rows and first 3 columns\n"
   ]
  },
  {
   "cell_type": "code",
   "execution_count": 9,
   "id": "88f710a9",
   "metadata": {},
   "outputs": [
    {
     "name": "stdout",
     "output_type": "stream",
     "text": [
      "[[  101  5000   720]\n",
      " [  102 12000   680]\n",
      " [  103  2500   610]\n",
      " [  104  7800   790]]\n"
     ]
    }
   ],
   "source": [
    "bank = banking_data[:4,:3]\n",
    "print(bank)"
   ]
  },
  {
   "cell_type": "code",
   "execution_count": null,
   "id": "729aa0a7",
   "metadata": {},
   "outputs": [],
   "source": [
    "**Q3.5:** Extract rows 3 to 7 (inclusive)\n"
   ]
  },
  {
   "cell_type": "code",
   "execution_count": 10,
   "id": "abcd9696",
   "metadata": {},
   "outputs": [
    {
     "name": "stdout",
     "output_type": "stream",
     "text": [
      "[[  103  2500   610    12     1]\n",
      " [  104  7800   790    67     4]\n",
      " [  105  3000   550     8     2]\n",
      " [  106 16000   845    89     6]\n",
      " [  107  4000   700    35     2]]\n"
     ]
    }
   ],
   "source": [
    "bank = banking_data[2:7]\n",
    "print(bank)"
   ]
  },
  {
   "cell_type": "code",
   "execution_count": 2,
   "id": "d14e6855",
   "metadata": {},
   "outputs": [
    {
     "name": "stdout",
     "output_type": "stream",
     "text": [
      "\n",
      "ORIGINAL BANKING DATA:\n",
      "[[  101  5000   720    45     3]\n",
      " [  102 12000   680    52     5]\n",
      " [  103  2500   610    12     1]\n",
      " [  104  7800   790    67     4]\n",
      " [  105  3000   550     8     2]\n",
      " [  106 16000   845    89     6]\n",
      " [  107  4000   700    35     2]\n",
      " [  108   980   600    22     1]\n",
      " [  109 22000   890   103     8]\n",
      " [  110   500   430     5     3]]\n",
      "\n",
      "Data shape: (10, 5)\n",
      "Data type: int64\n"
     ]
    }
   ],
   "source": [
    "import numpy as np\n",
    "import pandas as pd\n",
    "# Banking data: Customer_ID, Account_Balance, Credit_Score, Transaction_Count, Years_Active\n",
    "banking_data = np.array([\n",
    "    [101, 5000, 720, 45, 3],\n",
    "    [102, 12000, 680, 52, 5],\n",
    "    [103, 2500, 610, 12, 1],\n",
    "    [104, 7800, 790, 67, 4],\n",
    "    [105, 3000, 550, 8, 2],\n",
    "    [106, 16000, 845, 89, 6],\n",
    "    [107, 4000, 700, 35, 2],\n",
    "    [108, 980, 600, 22, 1],\n",
    "    [109, 22000, 890, 103, 8],\n",
    "    [110, 500, 430, 5, 3]\n",
    "])\n",
    "\n",
    "print(\"\\nORIGINAL BANKING DATA:\")\n",
    "print(banking_data)\n",
    "print(f\"\\nData shape: {banking_data.shape}\")\n",
    "print(f\"Data type: {banking_data.dtype}\")\n"
   ]
  },
  {
   "cell_type": "code",
   "execution_count": null,
   "id": "15fa11dd",
   "metadata": {},
   "outputs": [],
   "source": [
    "### Question 4: Mathematical Operations\n",
    "\n",
    "**Q4.1:** Calculate the sum of all account balances\n"
   ]
  },
  {
   "cell_type": "code",
   "execution_count": 4,
   "id": "ef9186ed",
   "metadata": {},
   "outputs": [
    {
     "name": "stdout",
     "output_type": "stream",
     "text": [
      "Total price:$73780\n"
     ]
    }
   ],
   "source": [
    "Total_price = np.sum(banking_data[:,1])\n",
    "print(f\"Total price:${Total_price}\")"
   ]
  },
  {
   "cell_type": "code",
   "execution_count": null,
   "id": "1d473cfd",
   "metadata": {},
   "outputs": [],
   "source": [
    "**Q4.2:** Calculate the mean account balance\n"
   ]
  },
  {
   "cell_type": "code",
   "execution_count": 5,
   "id": "164cf79b",
   "metadata": {},
   "outputs": [
    {
     "name": "stdout",
     "output_type": "stream",
     "text": [
      "mean price:$7378.0\n"
     ]
    }
   ],
   "source": [
    "mean = np.mean(banking_data[:,1])\n",
    "print(f\"mean price:${mean}\")"
   ]
  },
  {
   "cell_type": "code",
   "execution_count": null,
   "id": "550ff88e",
   "metadata": {},
   "outputs": [],
   "source": [
    "**Q4.3:** Calculate the standard deviation of account balances\n"
   ]
  },
  {
   "cell_type": "code",
   "execution_count": 7,
   "id": "553c6df3",
   "metadata": {},
   "outputs": [
    {
     "name": "stdout",
     "output_type": "stream",
     "text": [
      "std dv:$6767.21\n"
     ]
    }
   ],
   "source": [
    "SD = np.std(banking_data[:,1])\n",
    "print(f\"std dv:${SD:.2f}\")"
   ]
  },
  {
   "cell_type": "code",
   "execution_count": null,
   "id": "dacaf390",
   "metadata": {},
   "outputs": [],
   "source": [
    "**Q4.4:** Calculate the variance of account balances\n"
   ]
  },
  {
   "cell_type": "code",
   "execution_count": 9,
   "id": "02368f13",
   "metadata": {},
   "outputs": [
    {
     "name": "stdout",
     "output_type": "stream",
     "text": [
      "Var:$45795156.00\n"
     ]
    }
   ],
   "source": [
    "variance = np.var(banking_data[:,1])\n",
    "print(f\"Var:${variance:.2f}\")"
   ]
  },
  {
   "cell_type": "code",
   "execution_count": null,
   "id": "8b865b77",
   "metadata": {},
   "outputs": [],
   "source": [
    "**Q4.5:** Calculate the median account balance\n"
   ]
  },
  {
   "cell_type": "code",
   "execution_count": 10,
   "id": "9bc3b5e7",
   "metadata": {},
   "outputs": [
    {
     "name": "stdout",
     "output_type": "stream",
     "text": [
      "Med:$4500.00\n"
     ]
    }
   ],
   "source": [
    "Median = np.median(banking_data[:,1])\n",
    "print(f\"Med:${Median:.2f}\")"
   ]
  },
  {
   "cell_type": "code",
   "execution_count": null,
   "id": "d3524336",
   "metadata": {},
   "outputs": [],
   "source": [
    "### Question 5: Statistical Functions\n",
    "\n",
    "**Q5.1:** Find the minimum and maximum account balances\n"
   ]
  },
  {
   "cell_type": "code",
   "execution_count": 11,
   "id": "0d9cba32",
   "metadata": {},
   "outputs": [
    {
     "name": "stdout",
     "output_type": "stream",
     "text": [
      "Min:$500\n",
      "Max:$22000\n"
     ]
    }
   ],
   "source": [
    "min_price = np.min(banking_data[:,1])\n",
    "max_price = np.max(banking_data[:,1])\n",
    "print(f\"Min:${min_price}\")\n",
    "print(f\"Max:${max_price}\")"
   ]
  },
  {
   "cell_type": "code",
   "execution_count": null,
   "id": "e3fac037",
   "metadata": {},
   "outputs": [],
   "source": [
    "**Q5.2:** Find the minimum and maximum credit scores\n"
   ]
  },
  {
   "cell_type": "code",
   "execution_count": 12,
   "id": "5a9dc4fd",
   "metadata": {},
   "outputs": [
    {
     "name": "stdout",
     "output_type": "stream",
     "text": [
      "Min:$430\n",
      "Max:$890\n"
     ]
    }
   ],
   "source": [
    "min_credit = np.min(banking_data[:,2])\n",
    "max_credit = np.max(banking_data[:,2])\n",
    "print(f\"Min:${min_credit}\")\n",
    "print(f\"Max:${max_credit}\")"
   ]
  },
  {
   "cell_type": "code",
   "execution_count": null,
   "id": "44bb1f84",
   "metadata": {},
   "outputs": [],
   "source": [
    "**Q5.3:** Calculate the percentile values for account balances (25th, 50th, 75th)\n"
   ]
  },
  {
   "cell_type": "code",
   "execution_count": 13,
   "id": "448f49bc",
   "metadata": {},
   "outputs": [
    {
     "name": "stdout",
     "output_type": "stream",
     "text": [
      "25th:2625.0\n",
      "50th:4500.0\n",
      "75th:10950.0\n"
     ]
    }
   ],
   "source": [
    "Percentile = np.percentile(banking_data[:,1],[25,50,75])\n",
    "print(f\"25th:{Percentile[0]}\")\n",
    "print(f\"50th:{Percentile[1]}\")\n",
    "print(f\"75th:{Percentile[2]}\")"
   ]
  },
  {
   "cell_type": "code",
   "execution_count": null,
   "id": "4a88cdcf",
   "metadata": {},
   "outputs": [],
   "source": [
    "**Q5.4:** Calculate the correlation between account balance and credit score\n"
   ]
  },
  {
   "cell_type": "code",
   "execution_count": 14,
   "id": "7b2658ed",
   "metadata": {},
   "outputs": [
    {
     "name": "stdout",
     "output_type": "stream",
     "text": [
      "Correlation:0.8373\n"
     ]
    }
   ],
   "source": [
    "correlation = np.corrcoef(banking_data[:,1],banking_data[:,2])[0,1]\n",
    "print(f\"Correlation:{correlation:.4f}\")"
   ]
  },
  {
   "cell_type": "code",
   "execution_count": null,
   "id": "e85a1467",
   "metadata": {},
   "outputs": [],
   "source": [
    "**Q5.5:** Calculate the covariance between account balance and credit score\n"
   ]
  },
  {
   "cell_type": "code",
   "execution_count": 15,
   "id": "22bbf98c",
   "metadata": {},
   "outputs": [
    {
     "name": "stdout",
     "output_type": "stream",
     "text": [
      "Covariance:835436.6667\n"
     ]
    }
   ],
   "source": [
    "covariance = np.cov(banking_data[:,1],banking_data[:,2])[0,1]\n",
    "print(f\"Covariance:{covariance:.4f}\")"
   ]
  },
  {
   "cell_type": "code",
   "execution_count": null,
   "id": "b74d7790",
   "metadata": {},
   "outputs": [],
   "source": [
    "### Question 6: Array Reshaping and Manipulation\n",
    "\n",
    "**Q6.1:** Reshape the `banking_data` to 5 rows × 10 columns\n"
   ]
  },
  {
   "cell_type": "code",
   "execution_count": 17,
   "id": "2341e316",
   "metadata": {},
   "outputs": [
    {
     "name": "stdout",
     "output_type": "stream",
     "text": [
      "[[  101  5000   720    45     3   102 12000   680    52     5]\n",
      " [  103  2500   610    12     1   104  7800   790    67     4]\n",
      " [  105  3000   550     8     2   106 16000   845    89     6]\n",
      " [  107  4000   700    35     2   108   980   600    22     1]\n",
      " [  109 22000   890   103     8   110   500   430     5     3]]\n"
     ]
    }
   ],
   "source": [
    "Reshape = banking_data.reshape(5,10)\n",
    "print(Reshape)"
   ]
  },
  {
   "cell_type": "code",
   "execution_count": null,
   "id": "77489328",
   "metadata": {},
   "outputs": [],
   "source": [
    "**Q6.2:** Flatten the `banking_data` to a 1D array\n"
   ]
  },
  {
   "cell_type": "code",
   "execution_count": 18,
   "id": "235b4273",
   "metadata": {},
   "outputs": [
    {
     "name": "stdout",
     "output_type": "stream",
     "text": [
      "[  101  5000   720    45     3   102 12000   680    52     5   103  2500\n",
      "   610    12     1   104  7800   790    67     4   105  3000   550     8\n",
      "     2   106 16000   845    89     6   107  4000   700    35     2   108\n",
      "   980   600    22     1   109 22000   890   103     8   110   500   430\n",
      "     5     3]\n"
     ]
    }
   ],
   "source": [
    "Flatten = banking_data.flatten()\n",
    "print(Flatten)"
   ]
  },
  {
   "cell_type": "code",
   "execution_count": null,
   "id": "0ec82933",
   "metadata": {},
   "outputs": [],
   "source": [
    "**Q6.3:** Transpose the `banking_data`\n"
   ]
  },
  {
   "cell_type": "code",
   "execution_count": 20,
   "id": "630a51bb",
   "metadata": {},
   "outputs": [
    {
     "name": "stdout",
     "output_type": "stream",
     "text": [
      "[[  101   102   103   104   105   106   107   108   109   110]\n",
      " [ 5000 12000  2500  7800  3000 16000  4000   980 22000   500]\n",
      " [  720   680   610   790   550   845   700   600   890   430]\n",
      " [   45    52    12    67     8    89    35    22   103     5]\n",
      " [    3     5     1     4     2     6     2     1     8     3]]\n"
     ]
    }
   ],
   "source": [
    "Transposed = banking_data.T\n",
    "print(Transposed)"
   ]
  },
  {
   "cell_type": "code",
   "execution_count": null,
   "id": "7f26d83a",
   "metadata": {},
   "outputs": [],
   "source": [
    "**Q6.4:** Split the `banking_data` into 2 equal parts vertically\n"
   ]
  },
  {
   "cell_type": "code",
   "execution_count": 21,
   "id": "eea515fa",
   "metadata": {},
   "outputs": [
    {
     "name": "stdout",
     "output_type": "stream",
     "text": [
      "first part:\n",
      "[[  101  5000   720    45     3]\n",
      " [  102 12000   680    52     5]\n",
      " [  103  2500   610    12     1]\n",
      " [  104  7800   790    67     4]\n",
      " [  105  3000   550     8     2]]\n",
      "\n",
      "second part:\n",
      "[[  106 16000   845    89     6]\n",
      " [  107  4000   700    35     2]\n",
      " [  108   980   600    22     1]\n",
      " [  109 22000   890   103     8]\n",
      " [  110   500   430     5     3]]\n"
     ]
    }
   ],
   "source": [
    "Ver_split = np.vsplit(banking_data,2)\n",
    "print(\"first part:\")\n",
    "print(Ver_split[0])\n",
    "print(\"\\nsecond part:\")\n",
    "print(Ver_split[1])"
   ]
  },
  {
   "cell_type": "code",
   "execution_count": null,
   "id": "51ddfa8b",
   "metadata": {},
   "outputs": [],
   "source": [
    "**Q6.5:** Split the `banking_data` into 2 equal parts horizontally\n"
   ]
  },
  {
   "cell_type": "code",
   "execution_count": 25,
   "id": "35b995f3",
   "metadata": {},
   "outputs": [
    {
     "ename": "ValueError",
     "evalue": "array split does not result in an equal division",
     "output_type": "error",
     "traceback": [
      "\u001b[31m---------------------------------------------------------------------------\u001b[39m",
      "\u001b[31mValueError\u001b[39m                                Traceback (most recent call last)",
      "\u001b[36mCell\u001b[39m\u001b[36m \u001b[39m\u001b[32mIn[25]\u001b[39m\u001b[32m, line 1\u001b[39m\n\u001b[32m----> \u001b[39m\u001b[32m1\u001b[39m Hor_split = \u001b[43mnp\u001b[49m\u001b[43m.\u001b[49m\u001b[43mhsplit\u001b[49m\u001b[43m(\u001b[49m\u001b[43mbanking_data\u001b[49m\u001b[43m,\u001b[49m\u001b[32;43m2\u001b[39;49m\u001b[43m)\u001b[49m\n\u001b[32m      2\u001b[39m \u001b[38;5;28mprint\u001b[39m(\u001b[33m\"\u001b[39m\u001b[33mfirst part:\u001b[39m\u001b[33m\"\u001b[39m)\n\u001b[32m      3\u001b[39m \u001b[38;5;28mprint\u001b[39m(Hor_split[\u001b[32m0\u001b[39m])\n",
      "\u001b[36mFile \u001b[39m\u001b[32mc:\\Users\\ragha\\AppData\\Local\\Programs\\Python\\Python313\\Lib\\site-packages\\numpy\\lib\\_shape_base_impl.py:959\u001b[39m, in \u001b[36mhsplit\u001b[39m\u001b[34m(ary, indices_or_sections)\u001b[39m\n\u001b[32m    957\u001b[39m     \u001b[38;5;28;01mraise\u001b[39;00m \u001b[38;5;167;01mValueError\u001b[39;00m(\u001b[33m'\u001b[39m\u001b[33mhsplit only works on arrays of 1 or more dimensions\u001b[39m\u001b[33m'\u001b[39m)\n\u001b[32m    958\u001b[39m \u001b[38;5;28;01mif\u001b[39;00m ary.ndim > \u001b[32m1\u001b[39m:\n\u001b[32m--> \u001b[39m\u001b[32m959\u001b[39m     \u001b[38;5;28;01mreturn\u001b[39;00m \u001b[43msplit\u001b[49m\u001b[43m(\u001b[49m\u001b[43mary\u001b[49m\u001b[43m,\u001b[49m\u001b[43m \u001b[49m\u001b[43mindices_or_sections\u001b[49m\u001b[43m,\u001b[49m\u001b[43m \u001b[49m\u001b[32;43m1\u001b[39;49m\u001b[43m)\u001b[49m\n\u001b[32m    960\u001b[39m \u001b[38;5;28;01melse\u001b[39;00m:\n\u001b[32m    961\u001b[39m     \u001b[38;5;28;01mreturn\u001b[39;00m split(ary, indices_or_sections, \u001b[32m0\u001b[39m)\n",
      "\u001b[36mFile \u001b[39m\u001b[32mc:\\Users\\ragha\\AppData\\Local\\Programs\\Python\\Python313\\Lib\\site-packages\\numpy\\lib\\_shape_base_impl.py:884\u001b[39m, in \u001b[36msplit\u001b[39m\u001b[34m(ary, indices_or_sections, axis)\u001b[39m\n\u001b[32m    882\u001b[39m     N = ary.shape[axis]\n\u001b[32m    883\u001b[39m     \u001b[38;5;28;01mif\u001b[39;00m N % sections:\n\u001b[32m--> \u001b[39m\u001b[32m884\u001b[39m         \u001b[38;5;28;01mraise\u001b[39;00m \u001b[38;5;167;01mValueError\u001b[39;00m(\n\u001b[32m    885\u001b[39m             \u001b[33m'\u001b[39m\u001b[33marray split does not result in an equal division\u001b[39m\u001b[33m'\u001b[39m) \u001b[38;5;28;01mfrom\u001b[39;00m\u001b[38;5;250m \u001b[39m\u001b[38;5;28;01mNone\u001b[39;00m\n\u001b[32m    886\u001b[39m \u001b[38;5;28;01mreturn\u001b[39;00m array_split(ary, indices_or_sections, axis)\n",
      "\u001b[31mValueError\u001b[39m: array split does not result in an equal division"
     ]
    }
   ],
   "source": [
    "Hor_split = np.hsplit(banking_data,2)\n",
    "print(\"first part:\")\n",
    "print(Hor_split[0])\n",
    "print(\"\\nsecond part:\")\n",
    "print(Hor_split[1])"
   ]
  },
  {
   "cell_type": "code",
   "execution_count": 27,
   "id": "a3ad925a",
   "metadata": {},
   "outputs": [
    {
     "name": "stdout",
     "output_type": "stream",
     "text": [
      "\n",
      "ORIGINAL BANKING DATA:\n",
      "[[  101  5000   720    45     3]\n",
      " [  102 12000   680    52     5]\n",
      " [  103  2500   610    12     1]\n",
      " [  104  7800   790    67     4]\n",
      " [  105  3000   550     8     2]\n",
      " [  106 16000   845    89     6]\n",
      " [  107  4000   700    35     2]\n",
      " [  108   980   600    22     1]\n",
      " [  109 22000   890   103     8]\n",
      " [  110   500   430     5     3]]\n",
      "\n",
      "Data shape: (10, 5)\n",
      "Data type: int64\n"
     ]
    }
   ],
   "source": [
    "import numpy as np\n",
    "import pandas as pd\n",
    "# Banking data: Customer_ID, Account_Balance, Credit_Score, Transaction_Count, Years_Active\n",
    "banking_data = np.array([\n",
    "    [101, 5000, 720, 45, 3],\n",
    "    [102, 12000, 680, 52, 5],\n",
    "    [103, 2500, 610, 12, 1],\n",
    "    [104, 7800, 790, 67, 4],\n",
    "    [105, 3000, 550, 8, 2],\n",
    "    [106, 16000, 845, 89, 6],\n",
    "    [107, 4000, 700, 35, 2],\n",
    "    [108, 980, 600, 22, 1],\n",
    "    [109, 22000, 890, 103, 8],\n",
    "    [110, 500, 430, 5, 3]\n",
    "])\n",
    "\n",
    "print(\"\\nORIGINAL BANKING DATA:\")\n",
    "print(banking_data)\n",
    "print(f\"\\nData shape: {banking_data.shape}\")\n",
    "print(f\"Data type: {banking_data.dtype}\")\n"
   ]
  },
  {
   "cell_type": "code",
   "execution_count": null,
   "id": "039b4ac6",
   "metadata": {},
   "outputs": [],
   "source": [
    "### Question 7: Logical Operations and Filtering\n",
    "\n",
    "**Q7.1:** Find customers with account balance greater than $6000\n"
   ]
  },
  {
   "cell_type": "code",
   "execution_count": 31,
   "id": "5539f140",
   "metadata": {},
   "outputs": [
    {
     "name": "stdout",
     "output_type": "stream",
     "text": [
      "[[  102 12000   680    52     5]\n",
      " [  104  7800   790    67     4]\n",
      " [  106 16000   845    89     6]\n",
      " [  109 22000   890   103     8]]\n"
     ]
    }
   ],
   "source": [
    "Acc_balance = banking_data[banking_data[:,1]> 6000]\n",
    "print(Acc_balance)"
   ]
  },
  {
   "cell_type": "code",
   "execution_count": null,
   "id": "23e2796a",
   "metadata": {},
   "outputs": [],
   "source": [
    "**Q7.2:** Find customers with credit score greater than 800\n"
   ]
  },
  {
   "cell_type": "code",
   "execution_count": 32,
   "id": "b4874294",
   "metadata": {},
   "outputs": [
    {
     "name": "stdout",
     "output_type": "stream",
     "text": [
      "[[  106 16000   845    89     6]\n",
      " [  109 22000   890   103     8]]\n"
     ]
    }
   ],
   "source": [
    "cerdit_score = banking_data[banking_data[:,2]>800]\n",
    "print(cerdit_score)"
   ]
  },
  {
   "cell_type": "code",
   "execution_count": null,
   "id": "c553c53a",
   "metadata": {},
   "outputs": [],
   "source": [
    "**Q7.3:** Find customers with transaction count greater than 50 AND credit score less than 750\n"
   ]
  },
  {
   "cell_type": "code",
   "execution_count": 34,
   "id": "3300c91b",
   "metadata": {},
   "outputs": [
    {
     "name": "stdout",
     "output_type": "stream",
     "text": [
      "[[  102 12000   680    52     5]]\n"
     ]
    }
   ],
   "source": [
    "x = banking_data[(banking_data[:,3]>50) & (banking_data[:,2]<750)]\n",
    "print(x)"
   ]
  },
  {
   "cell_type": "code",
   "execution_count": null,
   "id": "0f9fe0be",
   "metadata": {},
   "outputs": [],
   "source": [
    "**Q7.4:** Count how many customers have account balance between $5000 and $10000\n"
   ]
  },
  {
   "cell_type": "code",
   "execution_count": 42,
   "id": "5f2996e4",
   "metadata": {},
   "outputs": [
    {
     "name": "stdout",
     "output_type": "stream",
     "text": [
      "balance in range 5k and 10k:2 \n"
     ]
    }
   ],
   "source": [
    "acc_balance_count =  np.sum((banking_data[:,1]>=5000) & (banking_data[:,1]<=10000))\n",
    "print(f\"balance in range 5k and 10k:{acc_balance_count} \")"
   ]
  },
  {
   "cell_type": "code",
   "execution_count": null,
   "id": "1b81c307",
   "metadata": {},
   "outputs": [],
   "source": [
    "**Q7.5:** Find the index of the customer with the highest credit score\n"
   ]
  },
  {
   "cell_type": "code",
   "execution_count": 44,
   "id": "b3b1a761",
   "metadata": {},
   "outputs": [
    {
     "name": "stdout",
     "output_type": "stream",
     "text": [
      "Index:8,Customer ID:109\n"
     ]
    }
   ],
   "source": [
    "high_credit = np.argmax(banking_data[:,2])\n",
    "print(f\"Index:{high_credit},Customer ID:{banking_data[high_credit,0]}\")"
   ]
  },
  {
   "cell_type": "code",
   "execution_count": null,
   "id": "b61684da",
   "metadata": {},
   "outputs": [],
   "source": [
    "### Question 8: Sorting and Searching\n",
    "\n",
    "**Q8.1:** Sort the `banking_data` by account balance (ascending)\n"
   ]
  },
  {
   "cell_type": "code",
   "execution_count": 47,
   "id": "3747a866",
   "metadata": {},
   "outputs": [
    {
     "name": "stdout",
     "output_type": "stream",
     "text": [
      "[[  110   500   430     5     3]\n",
      " [  108   980   600    22     1]\n",
      " [  103  2500   610    12     1]\n",
      " [  105  3000   550     8     2]\n",
      " [  107  4000   700    35     2]\n",
      " [  101  5000   720    45     3]\n",
      " [  104  7800   790    67     4]\n",
      " [  102 12000   680    52     5]\n",
      " [  106 16000   845    89     6]\n",
      " [  109 22000   890   103     8]]\n"
     ]
    }
   ],
   "source": [
    "Ascending_balance = banking_data[banking_data[:,1].argsort()]\n",
    "print(Ascending_balance)"
   ]
  },
  {
   "cell_type": "code",
   "execution_count": null,
   "id": "35fb067c",
   "metadata": {},
   "outputs": [],
   "source": [
    "**Q8.2:** Sort the `banking_data` by credit score (descending)\n"
   ]
  },
  {
   "cell_type": "code",
   "execution_count": 52,
   "id": "cb69c4be",
   "metadata": {},
   "outputs": [
    {
     "name": "stdout",
     "output_type": "stream",
     "text": [
      "[[  109 22000   890   103     8]\n",
      " [  106 16000   845    89     6]\n",
      " [  104  7800   790    67     4]\n",
      " [  101  5000   720    45     3]\n",
      " [  107  4000   700    35     2]\n",
      " [  102 12000   680    52     5]\n",
      " [  103  2500   610    12     1]\n",
      " [  108   980   600    22     1]\n",
      " [  105  3000   550     8     2]\n",
      " [  110   500   430     5     3]]\n"
     ]
    }
   ],
   "source": [
    "descending_credit = banking_data[(-banking_data[:,2]).argsort()]\n",
    "print(descending_credit)"
   ]
  },
  {
   "cell_type": "code",
   "execution_count": null,
   "id": "38781e5c",
   "metadata": {},
   "outputs": [],
   "source": [
    "**Q8.3:** Find the indices that would sort the array by years active\n"
   ]
  },
  {
   "cell_type": "code",
   "execution_count": 53,
   "id": "57a916ed",
   "metadata": {},
   "outputs": [
    {
     "name": "stdout",
     "output_type": "stream",
     "text": [
      "[2 7 4 6 0 9 3 1 5 8]\n"
     ]
    }
   ],
   "source": [
    "years_active = np.argsort(banking_data[:,4])\n",
    "print(years_active)"
   ]
  },
  {
   "cell_type": "code",
   "execution_count": null,
   "id": "b52b9af8",
   "metadata": {},
   "outputs": [],
   "source": [
    "**Q8.4:** Find the customer with the second highest account balance\n"
   ]
  },
  {
   "cell_type": "code",
   "execution_count": 56,
   "id": "9d43252d",
   "metadata": {},
   "outputs": [
    {
     "name": "stdout",
     "output_type": "stream",
     "text": [
      "customer ID:106,Balace:$16000\n"
     ]
    }
   ],
   "source": [
    "second_highest_idx = np.argsort(banking_data[:,1])[-2]\n",
    "second_highest_customer = banking_data[second_highest_idx]\n",
    "print(f\"customer ID:{second_highest_customer[0]},Balace:${second_highest_customer[1]}\")\n"
   ]
  },
  {
   "cell_type": "code",
   "execution_count": null,
   "id": "59bcc1dc",
   "metadata": {},
   "outputs": [],
   "source": [
    "**Q8.5:** Find the customer with the lowest transaction count\n"
   ]
  },
  {
   "cell_type": "code",
   "execution_count": 62,
   "id": "40c557c6",
   "metadata": {},
   "outputs": [
    {
     "name": "stdout",
     "output_type": "stream",
     "text": [
      "IDX:9,Customer ID:[110 500 430   5   3]\n"
     ]
    }
   ],
   "source": [
    "x = np.argmin(banking_data[:,3])\n",
    "print(f\"IDX:{x},Customer ID:{banking_data[x]}\")"
   ]
  },
  {
   "cell_type": "code",
   "execution_count": null,
   "id": "a668e49e",
   "metadata": {},
   "outputs": [],
   "source": [
    "### Question 9: Mathematical Functions\n",
    "\n",
    "**Q9.1:** Calculate the absolute values of all elements\n"
   ]
  },
  {
   "cell_type": "code",
   "execution_count": 63,
   "id": "27052d95",
   "metadata": {},
   "outputs": [
    {
     "name": "stdout",
     "output_type": "stream",
     "text": [
      "[[  101  5000   720    45     3]\n",
      " [  102 12000   680    52     5]\n",
      " [  103  2500   610    12     1]\n",
      " [  104  7800   790    67     4]\n",
      " [  105  3000   550     8     2]\n",
      " [  106 16000   845    89     6]\n",
      " [  107  4000   700    35     2]\n",
      " [  108   980   600    22     1]\n",
      " [  109 22000   890   103     8]\n",
      " [  110   500   430     5     3]]\n"
     ]
    }
   ],
   "source": [
    "absolute_values = np.abs(banking_data)\n",
    "print(absolute_values)"
   ]
  },
  {
   "cell_type": "code",
   "execution_count": null,
   "id": "4b62be8d",
   "metadata": {},
   "outputs": [],
   "source": [
    "**Q9.2:** Calculate the square root of all account balances\n"
   ]
  },
  {
   "cell_type": "code",
   "execution_count": 64,
   "id": "11f2d6c1",
   "metadata": {},
   "outputs": [
    {
     "name": "stdout",
     "output_type": "stream",
     "text": [
      "[ 70.71067812 109.5445115   50.          88.31760866  54.77225575\n",
      " 126.49110641  63.2455532   31.30495168 148.32396974  22.36067977]\n"
     ]
    }
   ],
   "source": [
    "sqr_rt = np.sqrt(banking_data[:,1])\n",
    "print(sqr_rt)"
   ]
  },
  {
   "cell_type": "code",
   "execution_count": null,
   "id": "63b40606",
   "metadata": {},
   "outputs": [],
   "source": [
    "**Q9.3:** Calculate the square of all credit scores\n"
   ]
  },
  {
   "cell_type": "code",
   "execution_count": 65,
   "id": "2fe925e6",
   "metadata": {},
   "outputs": [
    {
     "name": "stdout",
     "output_type": "stream",
     "text": [
      "[518400 462400 372100 624100 302500 714025 490000 360000 792100 184900]\n"
     ]
    }
   ],
   "source": [
    "square = np.square(banking_data[:,2])\n",
    "print(square)"
   ]
  },
  {
   "cell_type": "code",
   "execution_count": null,
   "id": "89b4c38b",
   "metadata": {},
   "outputs": [],
   "source": [
    "**Q9.4:** Calculate the exponential of all transaction counts\n"
   ]
  },
  {
   "cell_type": "code",
   "execution_count": 66,
   "id": "3c131bfd",
   "metadata": {},
   "outputs": [
    {
     "name": "stdout",
     "output_type": "stream",
     "text": [
      "[3.49342711e+19 3.83100800e+22 1.62754791e+05 1.25236317e+29\n",
      " 2.98095799e+03 4.48961282e+38 1.58601345e+15 3.58491285e+09\n",
      " 5.39922761e+44 1.48413159e+02]\n"
     ]
    }
   ],
   "source": [
    "exponential = np.exp(banking_data[:,3])\n",
    "print(exponential)"
   ]
  },
  {
   "cell_type": "code",
   "execution_count": null,
   "id": "f3376a57",
   "metadata": {},
   "outputs": [],
   "source": [
    "**Q9.5:** Calculate the natural logarithm of all account balances\n"
   ]
  },
  {
   "cell_type": "code",
   "execution_count": 67,
   "id": "1b11cb8a",
   "metadata": {},
   "outputs": [
    {
     "name": "stdout",
     "output_type": "stream",
     "text": [
      "[8.51719319 9.39266193 7.82404601 8.96187901 8.00636757 9.680344\n",
      " 8.29404964 6.88755257 9.99879773 6.2146081 ]\n"
     ]
    }
   ],
   "source": [
    "logarithm = np.log(banking_data[:,1])\n",
    "print(logarithm)"
   ]
  },
  {
   "cell_type": "code",
   "execution_count": null,
   "id": "21f0ed84",
   "metadata": {},
   "outputs": [],
   "source": [
    "### Question 10: Advanced Operations\n",
    "\n",
    "**Q10.1:** Calculate the cumulative sum of account balances\n"
   ]
  },
  {
   "cell_type": "code",
   "execution_count": 68,
   "id": "86a6c72c",
   "metadata": {},
   "outputs": [
    {
     "name": "stdout",
     "output_type": "stream",
     "text": [
      "[ 5000 17000 19500 27300 30300 46300 50300 51280 73280 73780]\n"
     ]
    }
   ],
   "source": [
    "cumulative_sum = np.cumsum(banking_data[:,1])\n",
    "print(cumulative_sum)"
   ]
  },
  {
   "cell_type": "code",
   "execution_count": null,
   "id": "e9065fd0",
   "metadata": {},
   "outputs": [],
   "source": [
    "**Q10.2:** Calculate the cumulative product of transaction counts\n"
   ]
  },
  {
   "cell_type": "code",
   "execution_count": 69,
   "id": "c054f89b",
   "metadata": {},
   "outputs": [
    {
     "name": "stdout",
     "output_type": "stream",
     "text": [
      "[             45            2340           28080         1881360\n",
      "        15050880      1339528320     46883491200   1031436806400\n",
      " 106237991059200 531189955296000]\n"
     ]
    }
   ],
   "source": [
    "cumulative_product = np.cumprod(banking_data[:,3])\n",
    "print(cumulative_product)"
   ]
  },
  {
   "cell_type": "code",
   "execution_count": null,
   "id": "4a825de1",
   "metadata": {},
   "outputs": [],
   "source": [
    "**Q10.3:** Calculate the difference between consecutive account balances\n"
   ]
  },
  {
   "cell_type": "code",
   "execution_count": 70,
   "id": "d57f02d7",
   "metadata": {},
   "outputs": [
    {
     "name": "stdout",
     "output_type": "stream",
     "text": [
      "[  7000  -9500   5300  -4800  13000 -12000  -3020  21020 -21500]\n"
     ]
    }
   ],
   "source": [
    "difference = np.diff(banking_data[:,1])\n",
    "print(difference)"
   ]
  },
  {
   "cell_type": "code",
   "execution_count": null,
   "id": "ccdddc3d",
   "metadata": {},
   "outputs": [],
   "source": [
    "**Q10.4:** Calculate the gradient of account balances\n"
   ]
  },
  {
   "cell_type": "code",
   "execution_count": 71,
   "id": "b4df1640",
   "metadata": {},
   "outputs": [
    {
     "name": "stdout",
     "output_type": "stream",
     "text": [
      "[  7000.  -1250.  -2100.    250.   4100.    500.  -7510.   9000.   -240.\n",
      " -21500.]\n"
     ]
    }
   ],
   "source": [
    "gradient = np.gradient(banking_data[:,1])\n",
    "print(gradient)"
   ]
  },
  {
   "cell_type": "code",
   "execution_count": null,
   "id": "65be17c1",
   "metadata": {},
   "outputs": [],
   "source": [
    "**Q10.5:** Calculate the histogram of account balances with 5 bins\n"
   ]
  },
  {
   "cell_type": "code",
   "execution_count": 72,
   "id": "f6f5649f",
   "metadata": {},
   "outputs": [
    {
     "name": "stdout",
     "output_type": "stream",
     "text": [
      "Histogram counts:[5 2 1 1 1]\n",
      "Bins Edges:[  500.  4800.  9100. 13400. 17700. 22000.]\n"
     ]
    }
   ],
   "source": [
    "hist_balance,bins_edges = np.histogram(banking_data[:,1],bins=5)\n",
    "print(f\"Histogram counts:{hist_balance}\")\n",
    "print(f\"Bins Edges:{bins_edges}\")"
   ]
  },
  {
   "cell_type": "code",
   "execution_count": null,
   "id": "ceb8effe",
   "metadata": {},
   "outputs": [],
   "source": [
    "### Question 11: Random Numbers and Simulation\n",
    "\n",
    "**Q11.1:** Generate 6 random integers between 1 and 1000\n"
   ]
  },
  {
   "cell_type": "code",
   "execution_count": 73,
   "id": "9a29b370",
   "metadata": {},
   "outputs": [
    {
     "name": "stdout",
     "output_type": "stream",
     "text": [
      "[81 73 50 56 72 15]\n"
     ]
    }
   ],
   "source": [
    "Random_integers = np.random.randint(1,101,6)\n",
    "print(Random_integers)"
   ]
  },
  {
   "cell_type": "code",
   "execution_count": null,
   "id": "5f147152",
   "metadata": {},
   "outputs": [],
   "source": [
    "**Q11.2:** Generate 6 random floats between 0 and 1\n"
   ]
  },
  {
   "cell_type": "code",
   "execution_count": 75,
   "id": "4912b523",
   "metadata": {},
   "outputs": [
    {
     "name": "stdout",
     "output_type": "stream",
     "text": [
      "[0.25004824 0.32080875 0.47446522 0.66300533 0.20716957 0.42069139]\n"
     ]
    }
   ],
   "source": [
    "floats = np.random.random(6)\n",
    "print(floats)"
   ]
  },
  {
   "cell_type": "code",
   "execution_count": null,
   "id": "d63fd268",
   "metadata": {},
   "outputs": [],
   "source": [
    "**Q11.3:** Generate 6 random numbers from normal distribution (mean=700, std=100)\n"
   ]
  },
  {
   "cell_type": "code",
   "execution_count": 76,
   "id": "5d01d2bd",
   "metadata": {},
   "outputs": [
    {
     "name": "stdout",
     "output_type": "stream",
     "text": [
      "[699.05327688 760.33774878 746.47227581 544.91771211 779.5689433\n",
      " 918.42200358]\n"
     ]
    }
   ],
   "source": [
    "Random_numbers = np.random.normal(700,100,6)\n",
    "print(Random_numbers)"
   ]
  },
  {
   "cell_type": "code",
   "execution_count": null,
   "id": "60479056",
   "metadata": {},
   "outputs": [],
   "source": [
    "**Q11.4:** Shuffle the `banking_data` rows randomly\n"
   ]
  },
  {
   "cell_type": "code",
   "execution_count": 77,
   "id": "d6c34b33",
   "metadata": {},
   "outputs": [
    {
     "name": "stdout",
     "output_type": "stream",
     "text": [
      "[[  101  5000   720    45     3]\n",
      " [  107  4000   700    35     2]\n",
      " [  102 12000   680    52     5]\n",
      " [  106 16000   845    89     6]\n",
      " [  105  3000   550     8     2]\n",
      " [  104  7800   790    67     4]\n",
      " [  110   500   430     5     3]\n",
      " [  103  2500   610    12     1]\n",
      " [  109 22000   890   103     8]\n",
      " [  108   980   600    22     1]]\n"
     ]
    }
   ],
   "source": [
    "Shuffled_data = banking_data.copy()\n",
    "np.random.shuffle(Shuffled_data)\n",
    "print(Shuffled_data)"
   ]
  },
  {
   "cell_type": "code",
   "execution_count": null,
   "id": "9a65bfd1",
   "metadata": {},
   "outputs": [],
   "source": [
    "**Q11.5:** Set random seed to 123 and generate 4 random numbers\n"
   ]
  },
  {
   "cell_type": "code",
   "execution_count": 79,
   "id": "68073575",
   "metadata": {},
   "outputs": [
    {
     "name": "stdout",
     "output_type": "stream",
     "text": [
      "[0.69646919 0.28613933 0.22685145 0.55131477]\n"
     ]
    }
   ],
   "source": [
    "np.random.seed(123)\n",
    "Random_seed = np.random.random(4)\n",
    "print(Random_seed)"
   ]
  },
  {
   "cell_type": "code",
   "execution_count": null,
   "id": "513188f2",
   "metadata": {},
   "outputs": [],
   "source": [
    "### Question 12: Linear Algebra Operations\n",
    "\n",
    "**Q12.1:** Calculate the dot product of account balance and credit score columns\n"
   ]
  },
  {
   "cell_type": "code",
   "execution_count": 80,
   "id": "40a56657",
   "metadata": {},
   "outputs": [
    {
     "name": "stdout",
     "output_type": "stream",
     "text": [
      "Dot Product:57800000\n"
     ]
    }
   ],
   "source": [
    "dot_product = np.dot(banking_data[:,1],banking_data[:,2])\n",
    "print(f\"Dot Product:{dot_product}\")"
   ]
  },
  {
   "cell_type": "code",
   "execution_count": null,
   "id": "c3ee39ee",
   "metadata": {},
   "outputs": [],
   "source": [
    "**Q12.2:** Calculate the cross product of first two rows\n"
   ]
  },
  {
   "cell_type": "code",
   "execution_count": 84,
   "id": "b713c71f",
   "metadata": {},
   "outputs": [
    {
     "name": "stdout",
     "output_type": "stream",
     "text": [
      "[-740000  -14110  360000]\n"
     ]
    }
   ],
   "source": [
    "cross_product = np.cross(banking_data[0,:3],banking_data[1,:3])\n",
    "print(cross_product)"
   ]
  },
  {
   "cell_type": "code",
   "execution_count": null,
   "id": "a3c5da45",
   "metadata": {},
   "outputs": [],
   "source": [
    "**Q12.3:** Calculate the norm (magnitude) of the account balance column\n"
   ]
  },
  {
   "cell_type": "code",
   "execution_count": 86,
   "id": "9aa233ba",
   "metadata": {},
   "outputs": [
    {
     "name": "stdout",
     "output_type": "stream",
     "text": [
      "Norm:31659.13\n"
     ]
    }
   ],
   "source": [
    "Norm = np.linalg.norm(banking_data[:,1])\n",
    "print(f\"Norm:{Norm:.2f}\")"
   ]
  },
  {
   "cell_type": "code",
   "execution_count": null,
   "id": "6bf65380",
   "metadata": {},
   "outputs": [],
   "source": [
    "**Q12.4:** Create a 3x3 matrix and calculate its determinant\n"
   ]
  },
  {
   "cell_type": "code",
   "execution_count": 90,
   "id": "307ea65c",
   "metadata": {},
   "outputs": [
    {
     "name": "stdout",
     "output_type": "stream",
     "text": [
      "Matrix:\n",
      "[[4 2 3]\n",
      " [9 5 6]\n",
      " [8 7 9]]\n",
      "Determinant:15.000000000000007\n"
     ]
    }
   ],
   "source": [
    "matrix_3x3 = np.array([[4,2,3],[9,5,6],[8,7,9]])\n",
    "determinant = np.linalg.det(matrix_3x3)\n",
    "print(f\"Matrix:\\n{matrix_3x3}\")\n",
    "print(f\"Determinant:{determinant}\")"
   ]
  },
  {
   "cell_type": "code",
   "execution_count": null,
   "id": "d4498774",
   "metadata": {},
   "outputs": [],
   "source": [
    "**Q12.5:** Calculate the inverse of the 3x3 matrix\n"
   ]
  },
  {
   "cell_type": "code",
   "execution_count": 93,
   "id": "f37bc654",
   "metadata": {},
   "outputs": [
    {
     "name": "stdout",
     "output_type": "stream",
     "text": [
      "Inverse:[[ 0.2         0.2        -0.2       ]\n",
      " [-2.2         0.8         0.2       ]\n",
      " [ 1.53333333 -0.8         0.13333333]]\n"
     ]
    }
   ],
   "source": [
    "Inverse_matrix = np.linalg.inv(matrix_3x3)\n",
    "print(f\"Inverse:{Inverse_matrix}\")"
   ]
  },
  {
   "cell_type": "code",
   "execution_count": 95,
   "id": "72d67cb6",
   "metadata": {},
   "outputs": [
    {
     "name": "stdout",
     "output_type": "stream",
     "text": [
      "\n",
      "ORIGINAL BANKING DATA:\n",
      "[[  101  5000   720    45     3]\n",
      " [  102 12000   680    52     5]\n",
      " [  103  2500   610    12     1]\n",
      " [  104  7800   790    67     4]\n",
      " [  105  3000   550     8     2]\n",
      " [  106 16000   845    89     6]\n",
      " [  107  4000   700    35     2]\n",
      " [  108   980   600    22     1]\n",
      " [  109 22000   890   103     8]\n",
      " [  110   500   430     5     3]]\n",
      "\n",
      "Data shape: (10, 5)\n",
      "Data type: int64\n"
     ]
    }
   ],
   "source": [
    "import numpy as np\n",
    "import pandas as pd\n",
    "# Banking data: Customer_ID, Account_Balance, Credit_Score, Transaction_Count, Years_Active\n",
    "banking_data = np.array([\n",
    "    [101, 5000, 720, 45, 3],\n",
    "    [102, 12000, 680, 52, 5],\n",
    "    [103, 2500, 610, 12, 1],\n",
    "    [104, 7800, 790, 67, 4],\n",
    "    [105, 3000, 550, 8, 2],\n",
    "    [106, 16000, 845, 89, 6],\n",
    "    [107, 4000, 700, 35, 2],\n",
    "    [108, 980, 600, 22, 1],\n",
    "    [109, 22000, 890, 103, 8],\n",
    "    [110, 500, 430, 5, 3]\n",
    "])\n",
    "\n",
    "print(\"\\nORIGINAL BANKING DATA:\")\n",
    "print(banking_data)\n",
    "print(f\"\\nData shape: {banking_data.shape}\")\n",
    "print(f\"Data type: {banking_data.dtype}\")\n"
   ]
  },
  {
   "cell_type": "code",
   "execution_count": null,
   "id": "89bdd596",
   "metadata": {},
   "outputs": [],
   "source": [
    "### Question 13: String Operations\n",
    "\n",
    "**Q13.1:** Convert all customer IDs to strings\n"
   ]
  },
  {
   "cell_type": "code",
   "execution_count": 96,
   "id": "0e57915a",
   "metadata": {},
   "outputs": [
    {
     "name": "stdout",
     "output_type": "stream",
     "text": [
      "['101' '102' '103' '104' '105' '106' '107' '108' '109' '110']\n"
     ]
    }
   ],
   "source": [
    "Customer_id_str = banking_data[:,0].astype(str)\n",
    "print(Customer_id_str)"
   ]
  },
  {
   "cell_type": "code",
   "execution_count": null,
   "id": "bb6d4b8a",
   "metadata": {},
   "outputs": [],
   "source": [
    "**Q13.2:** Check if any customer ID contains '100'\n"
   ]
  },
  {
   "cell_type": "code",
   "execution_count": 99,
   "id": "c36b9df0",
   "metadata": {},
   "outputs": [
    {
     "name": "stdout",
     "output_type": "stream",
     "text": [
      "[False False False False False False False False False False]\n"
     ]
    }
   ],
   "source": [
    "customer_100 = np.char.find(Customer_id_str,'100')>=0\n",
    "print(customer_100)\n"
   ]
  },
  {
   "cell_type": "code",
   "execution_count": null,
   "id": "1e39ed8b",
   "metadata": {},
   "outputs": [],
   "source": [
    "**Q13.3:** Convert all customer IDs to uppercase (if they were strings)\n"
   ]
  },
  {
   "cell_type": "code",
   "execution_count": 100,
   "id": "0e38738a",
   "metadata": {},
   "outputs": [
    {
     "name": "stdout",
     "output_type": "stream",
     "text": [
      "['101' '102' '103' '104' '105' '106' '107' '108' '109' '110']\n"
     ]
    }
   ],
   "source": [
    "Uppercase = np.char.upper(Customer_id_str)\n",
    "print(Uppercase)"
   ]
  },
  {
   "cell_type": "code",
   "execution_count": null,
   "id": "74d8d643",
   "metadata": {},
   "outputs": [],
   "source": [
    "**Q13.4:** Count the length of each customer ID string\n"
   ]
  },
  {
   "cell_type": "code",
   "execution_count": 102,
   "id": "282ca0dd",
   "metadata": {},
   "outputs": [
    {
     "name": "stdout",
     "output_type": "stream",
     "text": [
      "[3 3 3 3 3 3 3 3 3 3]\n"
     ]
    }
   ],
   "source": [
    "count = np.char.str_len(Customer_id_str)\n",
    "print(count)"
   ]
  },
  {
   "cell_type": "code",
   "execution_count": null,
   "id": "1f6cd78a",
   "metadata": {},
   "outputs": [],
   "source": [
    "**Q13.5:** Replace '10' with 'CUST' in customer IDs\n"
   ]
  },
  {
   "cell_type": "code",
   "execution_count": 107,
   "id": "820e1d62",
   "metadata": {},
   "outputs": [
    {
     "name": "stdout",
     "output_type": "stream",
     "text": [
      "['CUST1' 'CUST2' 'CUST3' 'CUST4' 'CUST5' 'CUST6' 'CUST7' 'CUST8' 'CUST9'\n",
      " '1CUST']\n"
     ]
    }
   ],
   "source": [
    "Replace_ids = np.char.replace(Customer_id_str,'10','CUST')\n",
    "print(Replace_ids)"
   ]
  },
  {
   "cell_type": "code",
   "execution_count": null,
   "id": "f7f30b30",
   "metadata": {},
   "outputs": [],
   "source": [
    "### Question 14: Date and Time Operations\n",
    "\n",
    "**Q14.1:** Convert years active to months\n"
   ]
  },
  {
   "cell_type": "code",
   "execution_count": 108,
   "id": "3d978fd3",
   "metadata": {},
   "outputs": [
    {
     "name": "stdout",
     "output_type": "stream",
     "text": [
      "[36 60 12 48 24 72 24 12 96 36]\n"
     ]
    }
   ],
   "source": [
    "months = banking_data[:,4]*12\n",
    "print(months)"
   ]
  },
  {
   "cell_type": "code",
   "execution_count": null,
   "id": "4ac96e63",
   "metadata": {},
   "outputs": [],
   "source": [
    "**Q14.2:** Calculate the average years active\n"
   ]
  },
  {
   "cell_type": "code",
   "execution_count": 109,
   "id": "53399a20",
   "metadata": {},
   "outputs": [
    {
     "name": "stdout",
     "output_type": "stream",
     "text": [
      "Average Years Active:3.5\n"
     ]
    }
   ],
   "source": [
    "average = np.mean(banking_data[:,4])\n",
    "print(f\"Average Years Active:{average:.1f}\")"
   ]
  },
  {
   "cell_type": "code",
   "execution_count": null,
   "id": "b5bd3e71",
   "metadata": {},
   "outputs": [],
   "source": [
    "**Q14.3:** Find customers who have been active for more than 5 years\n"
   ]
  },
  {
   "cell_type": "code",
   "execution_count": 111,
   "id": "a0f49c53",
   "metadata": {},
   "outputs": [
    {
     "name": "stdout",
     "output_type": "stream",
     "text": [
      "Active Morethan 5:[[  106 16000   845    89     6]\n",
      " [  109 22000   890   103     8]]\n"
     ]
    }
   ],
   "source": [
    "active_morethan_5 = banking_data[banking_data[:,4]>5]\n",
    "print(f\"Active Morethan 5:{active_morethan_5}\")"
   ]
  },
  {
   "cell_type": "code",
   "execution_count": null,
   "id": "6c04ab08",
   "metadata": {},
   "outputs": [],
   "source": [
    "**Q14.4:** Calculate the total time all customers have been active (in years)\n"
   ]
  },
  {
   "cell_type": "code",
   "execution_count": 112,
   "id": "74ced006",
   "metadata": {},
   "outputs": [
    {
     "name": "stdout",
     "output_type": "stream",
     "text": [
      "Total Time:35 years\n"
     ]
    }
   ],
   "source": [
    "total_time = np.sum(banking_data[:,4])\n",
    "print(f\"Total Time:{total_time} years\")"
   ]
  },
  {
   "cell_type": "code",
   "execution_count": null,
   "id": "14a44e89",
   "metadata": {},
   "outputs": [],
   "source": [
    "**Q14.5:** Find the customer with the shortest time active\n"
   ]
  },
  {
   "cell_type": "code",
   "execution_count": 115,
   "id": "16104339",
   "metadata": {},
   "outputs": [
    {
     "name": "stdout",
     "output_type": "stream",
     "text": [
      "Index:103,Years:1\n"
     ]
    }
   ],
   "source": [
    "Shortest_time_idx = np.argmin(banking_data[:,4])\n",
    "Shortest_time_Cust = banking_data[Shortest_time_idx]\n",
    "print(f\"Index:{Shortest_time_Cust[0]},Years:{Shortest_time_Cust[4]}\")"
   ]
  },
  {
   "cell_type": "code",
   "execution_count": null,
   "id": "28c8d442",
   "metadata": {},
   "outputs": [],
   "source": [
    "### Question 15: Advanced Array Operations\n",
    "\n",
    "**Q15.1:** Apply a function to calculate 5% interest on all account balances\n"
   ]
  },
  {
   "cell_type": "code",
   "execution_count": 116,
   "id": "b38ea59d",
   "metadata": {},
   "outputs": [
    {
     "name": "stdout",
     "output_type": "stream",
     "text": [
      "[ 5250. 12600.  2625.  8190.  3150. 16800.  4200.  1029. 23100.   525.]\n"
     ]
    }
   ],
   "source": [
    "New_balance = banking_data[:,1]*1.05\n",
    "print(New_balance)"
   ]
  },
  {
   "cell_type": "code",
   "execution_count": null,
   "id": "7ecfaf28",
   "metadata": {},
   "outputs": [],
   "source": [
    "**Q15.2:** Use `np.where` to categorize customers by balance ranges\n"
   ]
  },
  {
   "cell_type": "code",
   "execution_count": 118,
   "id": "f05948a5",
   "metadata": {},
   "outputs": [
    {
     "name": "stdout",
     "output_type": "stream",
     "text": [
      "['high' 'high' 'high' 'high' 'high' 'high' 'high' 'low' 'high' 'low']\n"
     ]
    }
   ],
   "source": [
    "x = np.where(banking_data[:,1]>1000 ,\"high\",\"low\")\n",
    "print(x)"
   ]
  },
  {
   "cell_type": "code",
   "execution_count": null,
   "id": "14061436",
   "metadata": {},
   "outputs": [],
   "source": [
    "**Q15.3:** Use `np.select` to categorize customers by credit score ranges\n"
   ]
  },
  {
   "cell_type": "code",
   "execution_count": 124,
   "id": "b89a0b73",
   "metadata": {},
   "outputs": [
    {
     "name": "stdout",
     "output_type": "stream",
     "text": [
      "['High' 'High' 'Medium' 'High' 'Medium' 'High' 'High' 'Medium' 'High'\n",
      " 'Medium']\n"
     ]
    }
   ],
   "source": [
    "conditions = [banking_data[:,2]<350,\n",
    "              (banking_data[:,2]>=350) & (banking_data[:,2]<650),\n",
    "              banking_data[:,2]>=650]\n",
    "choices = ['Low','Medium','High']\n",
    "categories = np.select(conditions,choices,default='unknown')\n",
    "print(categories)"
   ]
  },
  {
   "cell_type": "code",
   "execution_count": null,
   "id": "1a18465b",
   "metadata": {},
   "outputs": [],
   "source": [
    "**Q15.4:** Use `np.piecewise` to apply different interest rates based on balance\n"
   ]
  },
  {
   "cell_type": "code",
   "execution_count": 133,
   "id": "69abe141",
   "metadata": {},
   "outputs": [
    {
     "name": "stdout",
     "output_type": "stream",
     "text": [
      "[ 5300 13080  2575  8268  3090 17440  4240  1009 23980   515]\n"
     ]
    }
   ],
   "source": [
    "\n",
    "def low_int(x): return x * 1.03\n",
    "def mid_int(x): return x * 1.06 \n",
    "def high_int(x): return x * 1.09\n",
    "\n",
    "New_balances = np.piecewise(banking_data[:,1],\n",
    "                            [banking_data[:,1]<4000,(banking_data[:,1]>=4000) & (banking_data[:,1]<8050),banking_data[:,1]>=8050],\n",
    "                             [low_int,mid_int,high_int])\n",
    "print(New_balances)"
   ]
  },
  {
   "cell_type": "code",
   "execution_count": null,
   "id": "71788dda",
   "metadata": {},
   "outputs": [],
   "source": [
    "**Q15.5:** Use `np.apply_along_axis` to calculate the sum of each row\n"
   ]
  },
  {
   "cell_type": "code",
   "execution_count": 134,
   "id": "93a8c264",
   "metadata": {},
   "outputs": [
    {
     "name": "stdout",
     "output_type": "stream",
     "text": [
      "[ 5869 12839  3226  8765  3665 17046  4844  1711 23110  1048]\n"
     ]
    }
   ],
   "source": [
    "row_sums = np.apply_along_axis(np.sum,1,banking_data)\n",
    "print(row_sums)"
   ]
  },
  {
   "cell_type": "code",
   "execution_count": 1,
   "id": "2b773696",
   "metadata": {},
   "outputs": [
    {
     "name": "stdout",
     "output_type": "stream",
     "text": [
      "\n",
      "ORIGINAL BANKING DATA:\n",
      "[[  101  5000   720    45     3]\n",
      " [  102 12000   680    52     5]\n",
      " [  103  2500   610    12     1]\n",
      " [  104  7800   790    67     4]\n",
      " [  105  3000   550     8     2]\n",
      " [  106 16000   845    89     6]\n",
      " [  107  4000   700    35     2]\n",
      " [  108   980   600    22     1]\n",
      " [  109 22000   890   103     8]\n",
      " [  110   500   430     5     3]]\n",
      "\n",
      "Data shape: (10, 5)\n",
      "Data type: int64\n"
     ]
    }
   ],
   "source": [
    "import numpy as np\n",
    "import pandas as pd\n",
    "# Banking data: Customer_ID, Account_Balance, Credit_Score, Transaction_Count, Years_Active\n",
    "banking_data = np.array([\n",
    "    [101, 5000, 720, 45, 3],\n",
    "    [102, 12000, 680, 52, 5],\n",
    "    [103, 2500, 610, 12, 1],\n",
    "    [104, 7800, 790, 67, 4],\n",
    "    [105, 3000, 550, 8, 2],\n",
    "    [106, 16000, 845, 89, 6],\n",
    "    [107, 4000, 700, 35, 2],\n",
    "    [108, 980, 600, 22, 1],\n",
    "    [109, 22000, 890, 103, 8],\n",
    "    [110, 500, 430, 5, 3]\n",
    "])\n",
    "\n",
    "print(\"\\nORIGINAL BANKING DATA:\")\n",
    "print(banking_data)\n",
    "print(f\"\\nData shape: {banking_data.shape}\")\n",
    "print(f\"Data type: {banking_data.dtype}\")\n"
   ]
  },
  {
   "cell_type": "code",
   "execution_count": null,
   "id": "79ac31e5",
   "metadata": {},
   "outputs": [],
   "source": [
    "### Question 16: Array Concatenation and Stacking\n",
    "\n",
    "**Q16.1:** Concatenate two arrays horizontally using `np.hstack()`\n"
   ]
  },
  {
   "cell_type": "code",
   "execution_count": 3,
   "id": "d83718d7",
   "metadata": {},
   "outputs": [
    {
     "name": "stdout",
     "output_type": "stream",
     "text": [
      "Array 1: [1 2 3]\n",
      "Array 2: [4 5 6]\n",
      "Horizontal stack: [1 2 3 4 5 6]\n"
     ]
    }
   ],
   "source": [
    "arr1 = np.array([1, 2, 3])\n",
    "arr2 = np.array([4, 5, 6])\n",
    "hor_stack = np.hstack([arr1, arr2])\n",
    "print(f\"Array 1: {arr1}\")\n",
    "print(f\"Array 2: {arr2}\")\n",
    "print(f\"Horizontal stack: {hor_stack}\")\n"
   ]
  },
  {
   "cell_type": "code",
   "execution_count": null,
   "id": "d9156dc6",
   "metadata": {},
   "outputs": [],
   "source": [
    "**Q16.2:** Concatenate two arrays vertically using `np.vstack()`\n"
   ]
  },
  {
   "cell_type": "code",
   "execution_count": 6,
   "id": "08b6816a",
   "metadata": {},
   "outputs": [
    {
     "name": "stdout",
     "output_type": "stream",
     "text": [
      "Array 1: [1 2 3]\n",
      "Array 2: [4 5 6]\n",
      "Vertical stack:\n",
      " [[1 2 3]\n",
      " [4 5 6]]\n"
     ]
    }
   ],
   "source": [
    "\n",
    "ver_stack = np.vstack([arr1, arr2])\n",
    "print(f\"Array 1: {arr1}\")\n",
    "print(f\"Array 2: {arr2}\")\n",
    "print(f\"Vertical stack:\\n {ver_stack}\")\n"
   ]
  },
  {
   "cell_type": "code",
   "execution_count": null,
   "id": "41853180",
   "metadata": {},
   "outputs": [],
   "source": [
    "**Q16.3:** Concatenate arrays along a specific axis using `np.concatenate()`\n"
   ]
  },
  {
   "cell_type": "code",
   "execution_count": 9,
   "id": "d50ddfe6",
   "metadata": {},
   "outputs": [
    {
     "name": "stdout",
     "output_type": "stream",
     "text": [
      "Concatenated along axis 0: [1 2 3 4 5 6]\n"
     ]
    }
   ],
   "source": [
    "concatenate = np.concatenate([arr1, arr2], axis=0)\n",
    "print(f\"Concatenated along axis 0: {concatenate}\")"
   ]
  },
  {
   "cell_type": "code",
   "execution_count": null,
   "id": "8c783f90",
   "metadata": {},
   "outputs": [],
   "source": [
    "**Q16.4:** Stack arrays depth-wise using `np.dstack()`\n"
   ]
  },
  {
   "cell_type": "code",
   "execution_count": 13,
   "id": "fc740f04",
   "metadata": {},
   "outputs": [
    {
     "name": "stdout",
     "output_type": "stream",
     "text": [
      "Depth Wise Stack:[[[1 4]\n",
      "  [2 5]\n",
      "  [3 6]]]\n"
     ]
    }
   ],
   "source": [
    "depthstack = np.dstack([arr1,arr2])\n",
    "print(f\"Depth Wise Stack:{depthstack}\")"
   ]
  },
  {
   "cell_type": "code",
   "execution_count": null,
   "id": "5881b062",
   "metadata": {},
   "outputs": [],
   "source": [
    "**Q16.5:** Create a column stack using `np.column_stack()`\n"
   ]
  },
  {
   "cell_type": "code",
   "execution_count": 14,
   "id": "cdbae141",
   "metadata": {},
   "outputs": [
    {
     "name": "stdout",
     "output_type": "stream",
     "text": [
      "Column Stack:[[1 4]\n",
      " [2 5]\n",
      " [3 6]]\n"
     ]
    }
   ],
   "source": [
    "c_stack = np.column_stack([arr1,arr2])\n",
    "print(f\"Column Stack:{c_stack}\")"
   ]
  },
  {
   "cell_type": "code",
   "execution_count": null,
   "id": "df25ce3a",
   "metadata": {},
   "outputs": [],
   "source": [
    "### Question 17: Array Splitting Operations\n",
    "\n",
    "**Q17.1:** Split an array into 3 equal parts using `np.split()`\n"
   ]
  },
  {
   "cell_type": "code",
   "execution_count": 15,
   "id": "d14ae9e7",
   "metadata": {},
   "outputs": [
    {
     "name": "stdout",
     "output_type": "stream",
     "text": [
      "Original array: [ 1  2  3  4  5  6  7  8  9 10 11 12]\n",
      "Part 1: [1 2 3 4]\n",
      "Part 2: [5 6 7 8]\n",
      "Part 3: [ 9 10 11 12]\n"
     ]
    }
   ],
   "source": [
    "arr_to_split = np.array([1, 2, 3, 4, 5, 6, 7, 8, 9,10,11,12])\n",
    "split_parts = np.split(arr_to_split, 3)\n",
    "print(f\"Original array: {arr_to_split}\")\n",
    "for i, part in enumerate(split_parts):\n",
    "    print(f\"Part {i+1}: {part}\")\n"
   ]
  },
  {
   "cell_type": "code",
   "execution_count": null,
   "id": "cb80f7e1",
   "metadata": {},
   "outputs": [],
   "source": [
    "**Q17.2:** Split an array at specific indices using `np.split()`\n"
   ]
  },
  {
   "cell_type": "code",
   "execution_count": 16,
   "id": "620e826b",
   "metadata": {},
   "outputs": [
    {
     "name": "stdout",
     "output_type": "stream",
     "text": [
      "Original Array:[1 2 3 4 5 6 7 8 9]\n",
      "Part 1:[1 2 3 4]\n",
      "Part 2:[5 6 7]\n",
      "Part 3:[8 9]\n"
     ]
    }
   ],
   "source": [
    "arr_split = np.array([1,2,3,4,5,6,7,8,9])\n",
    "split_indices = np.split(arr_split,[4,7])\n",
    "print(f\"Original Array:{arr_split}\")\n",
    "for i,part in enumerate(split_indices):\n",
    "    print(f\"Part {i+1}:{part}\")"
   ]
  },
  {
   "cell_type": "code",
   "execution_count": null,
   "id": "bfe1c2f3",
   "metadata": {},
   "outputs": [],
   "source": [
    "**Q17.3:** Split an array horizontally using `np.hsplit()`\n"
   ]
  },
  {
   "cell_type": "code",
   "execution_count": 20,
   "id": "dbecb45b",
   "metadata": {},
   "outputs": [
    {
     "name": "stdout",
     "output_type": "stream",
     "text": [
      "Original array:[[1 2 3]\n",
      " [4 5 6]]\n",
      " Horizantal Part 1:[[1]\n",
      " [4]]\n",
      " Horizantal Part 2:[[2]\n",
      " [5]]\n",
      " Horizantal Part 3:[[3]\n",
      " [6]]\n"
     ]
    }
   ],
   "source": [
    "arr2d = np.array([[1,2,3],[4,5,6]])\n",
    "array_split = np.hsplit(arr2d,3)\n",
    "print(f\"Original array:{arr2d}\")\n",
    "for i,part in enumerate(array_split):\n",
    "    print(f\" Horizantal Part {i+1}:{part}\")"
   ]
  },
  {
   "cell_type": "code",
   "execution_count": null,
   "id": "acdd2bed",
   "metadata": {},
   "outputs": [],
   "source": [
    "**Q17.4:** Split an array vertically using `np.vsplit()`\n"
   ]
  },
  {
   "cell_type": "code",
   "execution_count": 23,
   "id": "c7facb83",
   "metadata": {},
   "outputs": [
    {
     "name": "stdout",
     "output_type": "stream",
     "text": [
      "Original array:[[1 2 3]\n",
      " [4 5 6]]\n",
      " Vertical Part 1:[[1 2 3]]\n",
      " Vertical Part 2:[[4 5 6]]\n"
     ]
    }
   ],
   "source": [
    "arr2d = np.array([[1,2,3],[4,5,6]])\n",
    "array_split = np.vsplit(arr2d,2)\n",
    "print(f\"Original array:{arr2d}\")\n",
    "for i,part in enumerate(array_split):\n",
    "    print(f\" Vertical Part {i+1}:{part}\")"
   ]
  },
  {
   "cell_type": "code",
   "execution_count": null,
   "id": "888c05cc",
   "metadata": {},
   "outputs": [],
   "source": [
    "**Q17.5:** Split an array into equal chunks using `np.array_split()`\n"
   ]
  },
  {
   "cell_type": "code",
   "execution_count": 26,
   "id": "7d3ad4b5",
   "metadata": {},
   "outputs": [
    {
     "name": "stdout",
     "output_type": "stream",
     "text": [
      "Chunks into 5 parts:\n",
      "Chunk 1:[1 2]\n",
      "Chunk 2:[3 4]\n",
      "Chunk 3:[5 6]\n",
      "Chunk 4:[7 8]\n",
      "Chunk 5:[9]\n"
     ]
    }
   ],
   "source": [
    "chunks = np.array_split(arr_split,5)\n",
    "print(f\"Chunks into 5 parts:\")\n",
    "for i,chunk in enumerate(chunks):\n",
    "    print(f\"Chunk {i+1}:{chunk}\")"
   ]
  },
  {
   "cell_type": "code",
   "execution_count": null,
   "id": "8becb05a",
   "metadata": {},
   "outputs": [],
   "source": [
    "### Question 18: Array Repetition and Tiling\n",
    "\n",
    "**Q18.1:** Repeat each element of an array 3 times using `np.repeat()`\n"
   ]
  },
  {
   "cell_type": "code",
   "execution_count": 27,
   "id": "2f1e548c",
   "metadata": {},
   "outputs": [
    {
     "name": "stdout",
     "output_type": "stream",
     "text": [
      "Original Array:[1 2 3]\n",
      "Repeats:[1 1 1 2 2 2 3 3 3]\n"
     ]
    }
   ],
   "source": [
    "Repeat = np.repeat(arr1,3)\n",
    "print(f\"Original Array:{arr1}\")\n",
    "print(f\"Repeats:{Repeat}\")"
   ]
  },
  {
   "cell_type": "code",
   "execution_count": null,
   "id": "eca7f4bf",
   "metadata": {},
   "outputs": [],
   "source": [
    "**Q18.2:** Repeat an entire array 2 times using `np.tile()`\n"
   ]
  },
  {
   "cell_type": "code",
   "execution_count": 28,
   "id": "442eae11",
   "metadata": {},
   "outputs": [
    {
     "name": "stdout",
     "output_type": "stream",
     "text": [
      "Original Array:[4 5 6]\n",
      "Tile:[4 5 6 4 5 6]\n"
     ]
    }
   ],
   "source": [
    "tile = np.tile(arr2,2)\n",
    "print(f\"Original Array:{arr2}\")\n",
    "print(f\"Tile:{tile}\")"
   ]
  },
  {
   "cell_type": "code",
   "execution_count": null,
   "id": "72d1999a",
   "metadata": {},
   "outputs": [],
   "source": [
    "**Q18.3:** Repeat a 2D array using `np.tile()`\n"
   ]
  },
  {
   "cell_type": "code",
   "execution_count": 29,
   "id": "4c6b25ce",
   "metadata": {},
   "outputs": [
    {
     "name": "stdout",
     "output_type": "stream",
     "text": [
      "Original array:[[5 6]\n",
      " [7 8]]\n",
      "Tile:[[5 6 5 6 5 6 5 6]\n",
      " [7 8 7 8 7 8 7 8]\n",
      " [5 6 5 6 5 6 5 6]\n",
      " [7 8 7 8 7 8 7 8]\n",
      " [5 6 5 6 5 6 5 6]\n",
      " [7 8 7 8 7 8 7 8]\n",
      " [5 6 5 6 5 6 5 6]\n",
      " [7 8 7 8 7 8 7 8]]\n"
     ]
    }
   ],
   "source": [
    "ar = np.array([[5,6],[7,8]])\n",
    "tile = np.tile(ar,(4,4))\n",
    "print(f\"Original array:{ar}\")\n",
    "print(f\"Tile:{tile}\")"
   ]
  },
  {
   "cell_type": "code",
   "execution_count": null,
   "id": "ef6b0798",
   "metadata": {},
   "outputs": [],
   "source": [
    "**Q18.4:** Create a pattern using `np.tile()`\n"
   ]
  },
  {
   "cell_type": "code",
   "execution_count": 31,
   "id": "32219c72",
   "metadata": {},
   "outputs": [
    {
     "name": "stdout",
     "output_type": "stream",
     "text": [
      "original array:[1 2 3 4]\n",
      "Tile:[1 2 3 4 1 2 3 4 1 2 3 4 1 2 3 4 1 2 3 4 1 2 3 4]\n"
     ]
    }
   ],
   "source": [
    "pattern = np.array([1,2,3,4])\n",
    "tile = np.tile(pattern,6)\n",
    "print(f\"original array:{pattern}\")\n",
    "print(f\"Tile:{tile}\")"
   ]
  },
  {
   "cell_type": "code",
   "execution_count": null,
   "id": "462cc344",
   "metadata": {},
   "outputs": [],
   "source": [
    "**Q18.5:** Repeat elements with different counts using `np.repeat()`\n"
   ]
  },
  {
   "cell_type": "code",
   "execution_count": 32,
   "id": "9f6f7243",
   "metadata": {},
   "outputs": [
    {
     "name": "stdout",
     "output_type": "stream",
     "text": [
      "original array:[4 5 6]\n",
      "Repeat count:[2, 3, 5]\n",
      "Repeat Var:[4 4 5 5 5 6 6 6 6 6]\n"
     ]
    }
   ],
   "source": [
    "array = np.array([4,5,6])\n",
    "repeat_counts = [2,3,5]\n",
    "repeat_var = np.repeat(array,repeat_counts)\n",
    "print(f\"original array:{array}\")\n",
    "print(f\"Repeat count:{repeat_counts}\")\n",
    "print(f\"Repeat Var:{repeat_var}\")\n"
   ]
  },
  {
   "cell_type": "code",
   "execution_count": null,
   "id": "56613455",
   "metadata": {},
   "outputs": [],
   "source": [
    "### Question 19: Array Comparison and Logical Operations\n",
    "\n",
    "**Q19.1:** Compare two arrays for equality using `np.array_equal()`\n"
   ]
  },
  {
   "cell_type": "code",
   "execution_count": 33,
   "id": "838b4507",
   "metadata": {},
   "outputs": [
    {
     "name": "stdout",
     "output_type": "stream",
     "text": [
      "arr a:[1 2 3]\n",
      "arr b:[4 5 6]\n",
      "arr c:[7 8 9]\n",
      "Array a equals b:False\n",
      "Array b equals c:False\n"
     ]
    }
   ],
   "source": [
    "a = np.array([1,2,3])\n",
    "b = np.array([4,5,6])\n",
    "c = np.array([7,8,9])\n",
    "print(f\"arr a:{a}\")\n",
    "print(f\"arr b:{b}\")\n",
    "print(f\"arr c:{c}\")\n",
    "print(f\"Array a equals b:{np.array_equal(a,b)}\")\n",
    "print(f\"Array b equals c:{np.array_equal(b,c)}\")"
   ]
  },
  {
   "cell_type": "code",
   "execution_count": null,
   "id": "2a50b216",
   "metadata": {},
   "outputs": [],
   "source": [
    "**Q19.2:** Check if arrays are close using `np.allclose()`\n"
   ]
  },
  {
   "cell_type": "code",
   "execution_count": null,
   "id": "5967357a",
   "metadata": {},
   "outputs": [],
   "source": []
  },
  {
   "cell_type": "code",
   "execution_count": null,
   "id": "43dafefa",
   "metadata": {},
   "outputs": [],
   "source": [
    "**Q19.3:** Apply logical AND operation between arrays\n"
   ]
  },
  {
   "cell_type": "code",
   "execution_count": 37,
   "id": "25adca34",
   "metadata": {},
   "outputs": [
    {
     "name": "stdout",
     "output_type": "stream",
     "text": [
      "Array: [4 5 6]\n",
      "Logical AND (1 < x < 3): [False  True False]\n"
     ]
    }
   ],
   "source": [
    "logical_and = np.logical_and(a > 1, a < 3)\n",
    "print(f\"Array: {b}\")\n",
    "print(f\"Logical AND (1 < x < 3): {logical_and}\")"
   ]
  },
  {
   "cell_type": "code",
   "execution_count": null,
   "id": "337b20be",
   "metadata": {},
   "outputs": [],
   "source": [
    "**Q19.4:** Apply logical OR operation between arrays\n"
   ]
  },
  {
   "cell_type": "code",
   "execution_count": null,
   "id": "5ad88930",
   "metadata": {},
   "outputs": [],
   "source": []
  },
  {
   "cell_type": "code",
   "execution_count": null,
   "id": "5648e6de",
   "metadata": {},
   "outputs": [],
   "source": [
    "**Q19.5:** Apply logical NOT operation to an array\n"
   ]
  },
  {
   "cell_type": "code",
   "execution_count": null,
   "id": "f3a7cb6c",
   "metadata": {},
   "outputs": [],
   "source": []
  },
  {
   "cell_type": "code",
   "execution_count": null,
   "id": "feb7f5e8",
   "metadata": {},
   "outputs": [],
   "source": [
    "### Question 20: Array Set Operations\n",
    "\n",
    "**Q20.1:** Find unique elements in an array using `np.unique()`\n"
   ]
  },
  {
   "cell_type": "code",
   "execution_count": 38,
   "id": "390db6be",
   "metadata": {},
   "outputs": [
    {
     "name": "stdout",
     "output_type": "stream",
     "text": [
      "Duplicate Array:[2 2 3 3 4 5 6 6 6]\n",
      "Unique:[2 3 4 5 6]\n"
     ]
    }
   ],
   "source": [
    "duplicate_array = np.array([2,2,3,3,4,5,6,6,6,])\n",
    "unique = np.unique(duplicate_array)\n",
    "print(f\"Duplicate Array:{duplicate_array}\")\n",
    "print(f\"Unique:{unique}\")"
   ]
  },
  {
   "cell_type": "code",
   "execution_count": null,
   "id": "ddf47a98",
   "metadata": {},
   "outputs": [],
   "source": [
    "**Q20.2:** Find the intersection of two arrays using `np.intersect1d()`\n"
   ]
  },
  {
   "cell_type": "code",
   "execution_count": 40,
   "id": "3d76dae2",
   "metadata": {},
   "outputs": [
    {
     "name": "stdout",
     "output_type": "stream",
     "text": [
      "A1:[1 2 3 4 5]\n",
      "A2:[4 5 6]\n",
      "Intersection:[4 5]\n"
     ]
    }
   ],
   "source": [
    "a1 = np.array([1,2,3,4,5])\n",
    "a2 = np.array([4,5,6])\n",
    "intersection = np.intersect1d(a1,a2)\n",
    "print(f\"A1:{a1}\")\n",
    "print(f\"A2:{a2}\")\n",
    "print(f\"Intersection:{intersection}\")"
   ]
  },
  {
   "cell_type": "code",
   "execution_count": null,
   "id": "9c4ed8a9",
   "metadata": {},
   "outputs": [],
   "source": [
    "**Q20.3:** Find the union of two arrays using `np.union1d()`\n"
   ]
  },
  {
   "cell_type": "code",
   "execution_count": 41,
   "id": "4d35c0dc",
   "metadata": {},
   "outputs": [
    {
     "name": "stdout",
     "output_type": "stream",
     "text": [
      "A1:[1 2 3]\n",
      "A2:[4 5 6]\n",
      "Union:[1 2 3 4 5 6]\n"
     ]
    }
   ],
   "source": [
    "a1 = np.array([1,2,3])\n",
    "a2 = np.array([4,5,6])\n",
    "union = np.union1d(a1,a2)\n",
    "print(f\"A1:{a1}\")\n",
    "print(f\"A2:{a2}\")\n",
    "print(f\"Union:{union}\")"
   ]
  },
  {
   "cell_type": "code",
   "execution_count": null,
   "id": "65229b32",
   "metadata": {},
   "outputs": [],
   "source": [
    "**Q20.4:** Find elements in first array but not in second using `np.setdiff1d()`\n"
   ]
  },
  {
   "cell_type": "code",
   "execution_count": 42,
   "id": "77eeb5c0",
   "metadata": {},
   "outputs": [
    {
     "name": "stdout",
     "output_type": "stream",
     "text": [
      "A1:[1 2 3 4 5]\n",
      "A2:[4 5 6]\n",
      "Setdiff:[1 2 3]\n"
     ]
    }
   ],
   "source": [
    "a1 = np.array([1,2,3,4,5])\n",
    "a2 = np.array([4,5,6])\n",
    "setdiff = np.setdiff1d(a1,a2)\n",
    "print(f\"A1:{a1}\")\n",
    "print(f\"A2:{a2}\")\n",
    "print(f\"Setdiff:{setdiff}\")"
   ]
  },
  {
   "cell_type": "code",
   "execution_count": null,
   "id": "ceceb59b",
   "metadata": {},
   "outputs": [],
   "source": [
    "**Q20.5:** Find the symmetric difference between two arrays using `np.setxor1d()`\n"
   ]
  },
  {
   "cell_type": "code",
   "execution_count": 44,
   "id": "34149ae8",
   "metadata": {},
   "outputs": [
    {
     "name": "stdout",
     "output_type": "stream",
     "text": [
      "A1:[1 2 3 4 5]\n",
      "A2:[4 5 6]\n",
      "Symmetric Diff:[1 2 3 6]\n"
     ]
    }
   ],
   "source": [
    "a1 = np.array([1,2,3,4,5])\n",
    "a2 = np.array([4,5,6])\n",
    "symmetric_diff = np.setxor1d(a1,a2)\n",
    "print(f\"A1:{a1}\")\n",
    "print(f\"A2:{a2}\")\n",
    "print(f\"Symmetric Diff:{symmetric_diff}\")"
   ]
  },
  {
   "cell_type": "code",
   "execution_count": null,
   "id": "68193237",
   "metadata": {},
   "outputs": [],
   "source": []
  },
  {
   "cell_type": "code",
   "execution_count": null,
   "id": "74551bdd",
   "metadata": {},
   "outputs": [],
   "source": []
  },
  {
   "cell_type": "code",
   "execution_count": null,
   "id": "a4da9b81",
   "metadata": {},
   "outputs": [],
   "source": []
  },
  {
   "cell_type": "code",
   "execution_count": null,
   "id": "5712b01d",
   "metadata": {},
   "outputs": [],
   "source": []
  }
 ],
 "metadata": {
  "kernelspec": {
   "display_name": "Python 3",
   "language": "python",
   "name": "python3"
  },
  "language_info": {
   "codemirror_mode": {
    "name": "ipython",
    "version": 3
   },
   "file_extension": ".py",
   "mimetype": "text/x-python",
   "name": "python",
   "nbconvert_exporter": "python",
   "pygments_lexer": "ipython3",
   "version": "3.13.5"
  }
 },
 "nbformat": 4,
 "nbformat_minor": 5
}
