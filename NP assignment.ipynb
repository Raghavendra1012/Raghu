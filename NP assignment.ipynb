{
 "cells": [
  {
   "cell_type": "code",
   "execution_count": 1,
   "id": "4658e71c",
   "metadata": {},
   "outputs": [
    {
     "name": "stdout",
     "output_type": "stream",
     "text": [
      "[[    1 25000   300  1200    10]\n",
      " [    2 32000   450  1500    15]\n",
      " [    3 28000   380  1100     8]\n",
      " [    4 41000   500  1600    20]\n",
      " [    5 35000   420  1400    12]\n",
      " [    6 27000   360  1300     9]\n",
      " [    7 39000   480  1700    18]\n",
      " [    8 30000   400  1250    14]\n",
      " [    9 45000   550  1800    25]\n",
      " [   10 33000   410  1450    11]]\n"
     ]
    }
   ],
   "source": [
    "import numpy as np\n",
    "\n",
    "# Manually created array: [Store ID, Sales, Customers, Inventory, Returns]\n",
    "retail_data = np.array([\n",
    "    [1, 25000, 300, 1200, 10],\n",
    "    [2, 32000, 450, 1500, 15],\n",
    "    [3, 28000, 380, 1100, 8],\n",
    "    [4, 41000, 500, 1600, 20],\n",
    "    [5, 35000, 420, 1400, 12],\n",
    "    [6, 27000, 360, 1300, 9],\n",
    "    [7, 39000, 480, 1700, 18],\n",
    "    [8, 30000, 400, 1250, 14],\n",
    "    [9, 45000, 550, 1800, 25],\n",
    "    [10, 33000, 410, 1450, 11]\n",
    "])\n",
    "\n",
    "print(retail_data)"
   ]
  },
  {
   "cell_type": "markdown",
   "id": "907effc7",
   "metadata": {},
   "source": [
    "# Retail Data – Business Questions (for `retail_data`)\n",
    "\n",
    "**Assumed columns:** `[StoreID, Sales, Customers, Inventory, Returns]`\n",
    "\n",
    "## Basic Performance Analysis\n",
    "1. What is the **total revenue** generated across all stores?\n",
    "2. Which store recorded the **highest sales**?\n",
    "3. Which store recorded the **lowest sales**?\n",
    "4. What is the **average daily sales** per store?\n",
    "5. How many stores achieved sales **above ₹35,000**?\n",
    "\n",
    "## Customer Insights\n",
    "6. Which store had the **highest customer footfall**?\n",
    "7. What is the **average number of customers** per store?\n",
    "8. How many stores have **more than 450 customers**?\n",
    "9. Which store has the **lowest customer count**?\n",
    "10. Is there any store where **high sales do not correspond to high customers**?\n",
    "\n",
    "## Inventory & Returns Analysis\n",
    "11. What is the **total inventory** across all stores?\n",
    "12. Which store has the **highest inventory stock**?\n",
    "13. How many stores have **inventory less than 1300 units**?\n",
    "14. Which store has the **highest return rate** (returns ÷ inventory)?\n",
    "15. Which stores have **returns greater than 15 units**?\n",
    "\n",
    "## Sales & Customer Correlation\n",
    "16. Is there a **positive correlation** between sales and customers?\n",
    "17. Which store has **high customer visits but low sales**?\n",
    "18. Which store has **low customers but high sales**?\n",
    "19. How many stores have **sales per customer above ₹90**?\n",
    "20. Which stores could **benefit from customer acquisition campaigns** (low customers, high inventory)?\n",
    "\n",
    "## Profitability & Growth\n",
    "21. If profit margin is **20% of sales**, what is the **profit per store**?\n",
    "22. Which store has the **highest profit**?\n",
    "23. Which store has the **lowest profit**?\n",
    "24. If sales increase by **10% next month**, what are the **new sales figures**?\n",
    "25. How will **total profit** change with the 10% sales increase?\n",
    "\n",
    "## Operational Strategy\n",
    "26. Which stores need **inventory restocking** based on sales and current stock?\n",
    "27. Which stores show **high returns percentage** and might require **quality checks**?\n",
    "28. Which store is the **best performer overall** (sales, customers, inventory turnover)?\n",
    "29. Which store is the **worst performer overall**?\n",
    "30. Which stores can be considered for **expansion** based on strong sales and customer metrics?\n"
   ]
  },
  {
   "cell_type": "code",
   "execution_count": null,
   "id": "2c99d6f4",
   "metadata": {},
   "outputs": [],
   "source": [
    "1. What is the **total revenue** generated across all stores?\n"
   ]
  },
  {
   "cell_type": "code",
   "execution_count": 2,
   "id": "33ea79e8",
   "metadata": {},
   "outputs": [
    {
     "name": "stdout",
     "output_type": "stream",
     "text": [
      "4790500000\n"
     ]
    }
   ],
   "source": [
    "a = retail_data[:,1].sum()\n",
    "b = retail_data[:,3].sum()\n",
    "c = a*b\n",
    "print(c)"
   ]
  },
  {
   "cell_type": "code",
   "execution_count": null,
   "id": "248a8537",
   "metadata": {},
   "outputs": [],
   "source": [
    "2. Which store recorded the **highest sales**?\n"
   ]
  },
  {
   "cell_type": "code",
   "execution_count": 3,
   "id": "8b7e86f4",
   "metadata": {},
   "outputs": [
    {
     "data": {
      "text/plain": [
       "np.int64(9)"
      ]
     },
     "execution_count": 3,
     "metadata": {},
     "output_type": "execute_result"
    }
   ],
   "source": [
    "retail_data[:,1].argmax()+1"
   ]
  },
  {
   "cell_type": "code",
   "execution_count": null,
   "id": "b2c39f90",
   "metadata": {},
   "outputs": [],
   "source": [
    "3. Which store recorded the **lowest sales**?\n"
   ]
  },
  {
   "cell_type": "code",
   "execution_count": 4,
   "id": "63b45e51",
   "metadata": {},
   "outputs": [
    {
     "data": {
      "text/plain": [
       "np.int64(1)"
      ]
     },
     "execution_count": 4,
     "metadata": {},
     "output_type": "execute_result"
    }
   ],
   "source": [
    "retail_data[:,1].argmin()+1"
   ]
  },
  {
   "cell_type": "code",
   "execution_count": null,
   "id": "23625c7b",
   "metadata": {},
   "outputs": [],
   "source": [
    "4. What is the **average daily sales** per store?\n"
   ]
  },
  {
   "cell_type": "code",
   "execution_count": 5,
   "id": "5d1d8a0f",
   "metadata": {},
   "outputs": [
    {
     "data": {
      "text/plain": [
       "np.float64(33500.0)"
      ]
     },
     "execution_count": 5,
     "metadata": {},
     "output_type": "execute_result"
    }
   ],
   "source": [
    "retail_data[:,1].mean()"
   ]
  },
  {
   "cell_type": "code",
   "execution_count": null,
   "id": "fd18e1b3",
   "metadata": {},
   "outputs": [],
   "source": [
    "5. How many stores achieved sales **above ₹35,000**?\n"
   ]
  },
  {
   "cell_type": "code",
   "execution_count": 6,
   "id": "277bf8d7",
   "metadata": {},
   "outputs": [
    {
     "name": "stdout",
     "output_type": "stream",
     "text": [
      "[41000 39000 45000]\n"
     ]
    }
   ],
   "source": [
    "a = retail_data[:,1]\n",
    "b = a [a > 35000]\n",
    "print(b)\n"
   ]
  },
  {
   "cell_type": "code",
   "execution_count": null,
   "id": "7ae03ebf",
   "metadata": {},
   "outputs": [],
   "source": [
    "6. Which store had the **highest customer footfall**?\n"
   ]
  },
  {
   "cell_type": "code",
   "execution_count": 7,
   "id": "0b6385ad",
   "metadata": {},
   "outputs": [
    {
     "data": {
      "text/plain": [
       "np.int64(9)"
      ]
     },
     "execution_count": 7,
     "metadata": {},
     "output_type": "execute_result"
    }
   ],
   "source": [
    "retail_data[:,2].argmax()+1"
   ]
  },
  {
   "cell_type": "code",
   "execution_count": null,
   "id": "9b28eec1",
   "metadata": {},
   "outputs": [],
   "source": [
    "7. What is the **average number of customers** per store?\n"
   ]
  },
  {
   "cell_type": "code",
   "execution_count": 8,
   "id": "7dcd2102",
   "metadata": {},
   "outputs": [
    {
     "name": "stdout",
     "output_type": "stream",
     "text": [
      "425.0\n"
     ]
    }
   ],
   "source": [
    "a = retail_data[:,2].mean()\n",
    "print(a)"
   ]
  },
  {
   "cell_type": "code",
   "execution_count": null,
   "id": "28c7012c",
   "metadata": {},
   "outputs": [],
   "source": [
    "8. How many stores have **more than 450 customers**?\n"
   ]
  },
  {
   "cell_type": "code",
   "execution_count": 9,
   "id": "383feddf",
   "metadata": {},
   "outputs": [
    {
     "name": "stdout",
     "output_type": "stream",
     "text": [
      "[500 480 550]\n"
     ]
    }
   ],
   "source": [
    "a = retail_data[:,2]\n",
    "b = a[a>450]\n",
    "print(b)"
   ]
  },
  {
   "cell_type": "code",
   "execution_count": null,
   "id": "1e0dc60c",
   "metadata": {},
   "outputs": [],
   "source": [
    "9. Which store has the **lowest customer count**?\n"
   ]
  },
  {
   "cell_type": "code",
   "execution_count": 10,
   "id": "ec256fc9",
   "metadata": {},
   "outputs": [
    {
     "name": "stdout",
     "output_type": "stream",
     "text": [
      "1\n"
     ]
    }
   ],
   "source": [
    "a = retail_data[:,2].argmin()+1\n",
    "print(a)"
   ]
  },
  {
   "cell_type": "code",
   "execution_count": null,
   "id": "013dd604",
   "metadata": {},
   "outputs": [],
   "source": [
    "10. Is there any store where **high sales do not correspond to high customers**?\n"
   ]
  },
  {
   "cell_type": "code",
   "execution_count": null,
   "id": "2282f2d5",
   "metadata": {},
   "outputs": [],
   "source": []
  },
  {
   "cell_type": "code",
   "execution_count": null,
   "id": "f000b089",
   "metadata": {},
   "outputs": [],
   "source": []
  },
  {
   "cell_type": "code",
   "execution_count": null,
   "id": "fc8ded65",
   "metadata": {},
   "outputs": [],
   "source": [
    "11. What is the **total inventory** across all stores?\n"
   ]
  },
  {
   "cell_type": "code",
   "execution_count": 11,
   "id": "4189a552",
   "metadata": {},
   "outputs": [
    {
     "data": {
      "text/plain": [
       "np.int64(14300)"
      ]
     },
     "execution_count": 11,
     "metadata": {},
     "output_type": "execute_result"
    }
   ],
   "source": [
    "retail_data[:,3].sum()"
   ]
  },
  {
   "cell_type": "code",
   "execution_count": null,
   "id": "6453cde5",
   "metadata": {},
   "outputs": [],
   "source": [
    "12. Which store has the **highest inventory stock**?\n"
   ]
  },
  {
   "cell_type": "code",
   "execution_count": 12,
   "id": "76f2fefc",
   "metadata": {},
   "outputs": [
    {
     "data": {
      "text/plain": [
       "np.int64(9)"
      ]
     },
     "execution_count": 12,
     "metadata": {},
     "output_type": "execute_result"
    }
   ],
   "source": [
    "retail_data[:,3].argmax()+1"
   ]
  },
  {
   "cell_type": "code",
   "execution_count": null,
   "id": "9939096e",
   "metadata": {},
   "outputs": [],
   "source": [
    "13. How many stores have **inventory less than 1300 units**?\n"
   ]
  },
  {
   "cell_type": "code",
   "execution_count": 13,
   "id": "8fc69a3b",
   "metadata": {},
   "outputs": [
    {
     "name": "stdout",
     "output_type": "stream",
     "text": [
      "[1200 1100 1250]\n"
     ]
    }
   ],
   "source": [
    "a = retail_data[:,3]\n",
    "b = a[a<1300]\n",
    "print(b)"
   ]
  },
  {
   "cell_type": "code",
   "execution_count": null,
   "id": "2687fa0a",
   "metadata": {},
   "outputs": [],
   "source": [
    "14. Which store has the **highest return rate** (returns ÷ inventory)?\n"
   ]
  },
  {
   "cell_type": "code",
   "execution_count": 14,
   "id": "8aaa999e",
   "metadata": {},
   "outputs": [
    {
     "data": {
      "text/plain": [
       "np.int64(9)"
      ]
     },
     "execution_count": 14,
     "metadata": {},
     "output_type": "execute_result"
    }
   ],
   "source": [
    "a = (retail_data[:,4])/(retail_data[:,3])\n",
    "a.argmax()+1"
   ]
  },
  {
   "cell_type": "code",
   "execution_count": null,
   "id": "20c228ef",
   "metadata": {},
   "outputs": [],
   "source": [
    "15. Which stores have **returns greater than 15 units**?\n"
   ]
  },
  {
   "cell_type": "code",
   "execution_count": 15,
   "id": "84b91c12",
   "metadata": {},
   "outputs": [
    {
     "data": {
      "text/plain": [
       "array([4, 7, 9])"
      ]
     },
     "execution_count": 15,
     "metadata": {},
     "output_type": "execute_result"
    }
   ],
   "source": [
    "a = retail_data[(retail_data[:,4])>15,0]\n",
    "a"
   ]
  },
  {
   "cell_type": "code",
   "execution_count": null,
   "id": "ee223e21",
   "metadata": {},
   "outputs": [],
   "source": [
    "16. Is there a **positive correlation** between sales and customers?\n"
   ]
  },
  {
   "cell_type": "code",
   "execution_count": null,
   "id": "62d3fdb5",
   "metadata": {},
   "outputs": [],
   "source": []
  },
  {
   "cell_type": "code",
   "execution_count": null,
   "id": "5c63de69",
   "metadata": {},
   "outputs": [],
   "source": [
    "17. Which store has **high customer visits but low sales**?\n"
   ]
  },
  {
   "cell_type": "code",
   "execution_count": 19,
   "id": "7c9d89ad",
   "metadata": {},
   "outputs": [
    {
     "data": {
      "text/plain": [
       "array([[    2, 32000,   450,  1500,    15]])"
      ]
     },
     "execution_count": 19,
     "metadata": {},
     "output_type": "execute_result"
    }
   ],
   "source": [
    "customers = retail_data[:,2].mean()\n",
    "sales = retail_data[:,1].mean()\n",
    "store = retail_data[(retail_data[:,2]>customers) & (retail_data[:,1]<sales)]\n",
    "store"
   ]
  },
  {
   "cell_type": "code",
   "execution_count": null,
   "id": "28be89dd",
   "metadata": {},
   "outputs": [],
   "source": [
    "18. Which store has **low customers but high sales**?\n"
   ]
  },
  {
   "cell_type": "code",
   "execution_count": 20,
   "id": "dc28affa",
   "metadata": {},
   "outputs": [
    {
     "data": {
      "text/plain": [
       "array([[    5, 35000,   420,  1400,    12]])"
      ]
     },
     "execution_count": 20,
     "metadata": {},
     "output_type": "execute_result"
    }
   ],
   "source": [
    "customers = retail_data[:,2].mean()\n",
    "sales = retail_data[:,1].mean()\n",
    "store = retail_data[(retail_data[:,2]<customers) & (retail_data[:,1]>sales)]\n",
    "store"
   ]
  },
  {
   "cell_type": "code",
   "execution_count": null,
   "id": "0dd09de5",
   "metadata": {},
   "outputs": [],
   "source": [
    "19. How many stores have **sales per customer above ₹90**?\n"
   ]
  },
  {
   "cell_type": "code",
   "execution_count": 21,
   "id": "bfb952b9",
   "metadata": {},
   "outputs": [
    {
     "data": {
      "text/plain": [
       "np.int64(0)"
      ]
     },
     "execution_count": 21,
     "metadata": {},
     "output_type": "execute_result"
    }
   ],
   "source": [
    "spc = retail_data[:,1]/ retail_data[:,2]\n",
    "store = np.sum(spc>90)\n",
    "store"
   ]
  },
  {
   "cell_type": "code",
   "execution_count": null,
   "id": "08f34d8b",
   "metadata": {},
   "outputs": [],
   "source": [
    "20. Which stores could **benefit from customer acquisition campaigns** (low customers, high inventory)?\n"
   ]
  },
  {
   "cell_type": "code",
   "execution_count": null,
   "id": "f09ef8d1",
   "metadata": {},
   "outputs": [],
   "source": []
  },
  {
   "cell_type": "code",
   "execution_count": null,
   "id": "b888124d",
   "metadata": {},
   "outputs": [],
   "source": []
  },
  {
   "cell_type": "code",
   "execution_count": null,
   "id": "980dc1a6",
   "metadata": {},
   "outputs": [],
   "source": [
    "21. If profit margin is **20% of sales**, what is the **profit per store**?\n"
   ]
  },
  {
   "cell_type": "code",
   "execution_count": 22,
   "id": "25456b79",
   "metadata": {},
   "outputs": [
    {
     "data": {
      "text/plain": [
       "array([5000., 6400., 5600., 8200., 7000., 5400., 7800., 6000., 9000.,\n",
       "       6600.])"
      ]
     },
     "execution_count": 22,
     "metadata": {},
     "output_type": "execute_result"
    }
   ],
   "source": [
    "profit = 0.2 * retail_data[:,1]\n",
    "profit"
   ]
  },
  {
   "cell_type": "code",
   "execution_count": null,
   "id": "3665fb1c",
   "metadata": {},
   "outputs": [],
   "source": [
    "22. Which store has the **highest profit**?\n"
   ]
  },
  {
   "cell_type": "code",
   "execution_count": 23,
   "id": "6b8fef6f",
   "metadata": {},
   "outputs": [
    {
     "data": {
      "text/plain": [
       "np.int64(9)"
      ]
     },
     "execution_count": 23,
     "metadata": {},
     "output_type": "execute_result"
    }
   ],
   "source": [
    "profit = 0.2 * retail_data[:,1]\n",
    "profit.argmax()+1"
   ]
  },
  {
   "cell_type": "code",
   "execution_count": null,
   "id": "f7359cf7",
   "metadata": {},
   "outputs": [],
   "source": [
    "23. Which store has the **lowest profit**?\n"
   ]
  },
  {
   "cell_type": "code",
   "execution_count": 24,
   "id": "6d66a642",
   "metadata": {},
   "outputs": [
    {
     "data": {
      "text/plain": [
       "np.int64(1)"
      ]
     },
     "execution_count": 24,
     "metadata": {},
     "output_type": "execute_result"
    }
   ],
   "source": [
    "profit = 0.2 * retail_data[:,1]\n",
    "profit.argmin()+1"
   ]
  },
  {
   "cell_type": "code",
   "execution_count": null,
   "id": "b948d698",
   "metadata": {},
   "outputs": [],
   "source": [
    "24. If sales increase by **10% next month**, what are the **new sales figures**?\n"
   ]
  },
  {
   "cell_type": "code",
   "execution_count": 25,
   "id": "a8dffa1b",
   "metadata": {},
   "outputs": [
    {
     "data": {
      "text/plain": [
       "array([2500., 3200., 2800., 4100., 3500., 2700., 3900., 3000., 4500.,\n",
       "       3300.])"
      ]
     },
     "execution_count": 25,
     "metadata": {},
     "output_type": "execute_result"
    }
   ],
   "source": [
    "sales = 0.1*retail_data[:,1] \n",
    "sales"
   ]
  },
  {
   "cell_type": "code",
   "execution_count": null,
   "id": "4ced2e40",
   "metadata": {},
   "outputs": [],
   "source": [
    "25. How will **total profit** change with the 10% sales increase?\n"
   ]
  },
  {
   "cell_type": "code",
   "execution_count": 26,
   "id": "9467aa06",
   "metadata": {},
   "outputs": [
    {
     "data": {
      "text/plain": [
       "array([27500., 35200., 30800., 45100., 38500., 29700., 42900., 33000.,\n",
       "       49500., 36300.])"
      ]
     },
     "execution_count": 26,
     "metadata": {},
     "output_type": "execute_result"
    }
   ],
   "source": [
    "sales = 0.1*retail_data[:,1] + retail_data[:,1]\n",
    "sales"
   ]
  },
  {
   "cell_type": "code",
   "execution_count": null,
   "id": "8ada652d",
   "metadata": {},
   "outputs": [],
   "source": [
    "26. Which stores need **inventory restocking** based on sales and current stock?\n"
   ]
  },
  {
   "cell_type": "code",
   "execution_count": 27,
   "id": "ac8fee20",
   "metadata": {},
   "outputs": [
    {
     "data": {
      "text/plain": [
       "array([[    5, 35000,   420,  1400,    12]])"
      ]
     },
     "execution_count": 27,
     "metadata": {},
     "output_type": "execute_result"
    }
   ],
   "source": [
    "sal = retail_data[:,1].mean()\n",
    "ret = retail_data[:,4].mean()\n",
    "res = retail_data[(retail_data[:,1] > sal) & (retail_data[:,4] < ret)]\n",
    "res"
   ]
  },
  {
   "cell_type": "code",
   "execution_count": null,
   "id": "6832161a",
   "metadata": {},
   "outputs": [],
   "source": [
    "27. Which stores show **high returns percentage** and might require **quality checks**?\n"
   ]
  },
  {
   "cell_type": "code",
   "execution_count": null,
   "id": "63f45d24",
   "metadata": {},
   "outputs": [],
   "source": []
  },
  {
   "cell_type": "code",
   "execution_count": null,
   "id": "45704908",
   "metadata": {},
   "outputs": [],
   "source": [
    "28. Which store is the **best performer overall** (sales, customers, inventory turnover)?\n"
   ]
  },
  {
   "cell_type": "code",
   "execution_count": null,
   "id": "240332be",
   "metadata": {},
   "outputs": [],
   "source": []
  },
  {
   "cell_type": "code",
   "execution_count": null,
   "id": "acb44e45",
   "metadata": {},
   "outputs": [],
   "source": [
    "29. Which store is the **worst performer overall**?\n"
   ]
  },
  {
   "cell_type": "code",
   "execution_count": null,
   "id": "0e875d80",
   "metadata": {},
   "outputs": [],
   "source": []
  },
  {
   "cell_type": "code",
   "execution_count": null,
   "id": "a3006dd7",
   "metadata": {},
   "outputs": [],
   "source": [
    "30. Which stores can be considered for **expansion** based on strong sales and customer metrics?\n"
   ]
  },
  {
   "cell_type": "code",
   "execution_count": null,
   "id": "207009c2",
   "metadata": {},
   "outputs": [],
   "source": []
  },
  {
   "cell_type": "code",
   "execution_count": null,
   "id": "d87d7317",
   "metadata": {},
   "outputs": [],
   "source": []
  },
  {
   "cell_type": "code",
   "execution_count": null,
   "id": "59ccfdb8",
   "metadata": {},
   "outputs": [],
   "source": []
  },
  {
   "cell_type": "code",
   "execution_count": null,
   "id": "33a82295",
   "metadata": {},
   "outputs": [],
   "source": []
  }
 ],
 "metadata": {
  "kernelspec": {
   "display_name": "Python 3",
   "language": "python",
   "name": "python3"
  },
  "language_info": {
   "codemirror_mode": {
    "name": "ipython",
    "version": 3
   },
   "file_extension": ".py",
   "mimetype": "text/x-python",
   "name": "python",
   "nbconvert_exporter": "python",
   "pygments_lexer": "ipython3",
   "version": "3.13.5"
  }
 },
 "nbformat": 4,
 "nbformat_minor": 5
}
